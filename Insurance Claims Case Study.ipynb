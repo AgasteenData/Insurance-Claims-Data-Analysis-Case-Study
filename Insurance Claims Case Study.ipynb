{
 "cells": [
  {
   "cell_type": "code",
   "execution_count": 1,
   "id": "8f9eb895-6649-47e1-9a53-7c5a8db4638f",
   "metadata": {},
   "outputs": [],
   "source": [
    "import numpy as np \n",
    "import pandas as pd\n",
    "import datetime as datetime\n",
    "import matplotlib.pyplot as plt\n",
    "%matplotlib inline\n",
    "import seaborn as sns"
   ]
  },
  {
   "cell_type": "code",
   "execution_count": 2,
   "id": "ff9020ac-a181-4350-88d9-b2913eb4e8db",
   "metadata": {},
   "outputs": [],
   "source": [
    "input_path = 'C://projects//alabs_python//date//input//Case Study 3 - Insurance Claims Case Study//'\n",
    "file_name1 = 'claims.csv'\n",
    "file_name2 = 'cust_demographics.csv'"
   ]
  },
  {
   "cell_type": "code",
   "execution_count": 3,
   "id": "96ba64cd-a143-4374-96cb-6d483426bd22",
   "metadata": {},
   "outputs": [],
   "source": [
    "claim = pd.read_csv(filepath_or_buffer=input_path+file_name1)\n",
    "cust = pd.read_csv(filepath_or_buffer=input_path+file_name2)"
   ]
  },
  {
   "cell_type": "code",
   "execution_count": 4,
   "id": "7fdb3d62-4b45-4612-9824-af3e2864c6ca",
   "metadata": {},
   "outputs": [
    {
     "data": {
      "text/plain": [
       "(1100, 10)"
      ]
     },
     "execution_count": 4,
     "metadata": {},
     "output_type": "execute_result"
    }
   ],
   "source": [
    "claim.shape"
   ]
  },
  {
   "cell_type": "code",
   "execution_count": 5,
   "id": "0cd746c4-2c00-4fc6-a55b-555283ed4f0d",
   "metadata": {},
   "outputs": [
    {
     "data": {
      "text/plain": [
       "(1085, 6)"
      ]
     },
     "execution_count": 5,
     "metadata": {},
     "output_type": "execute_result"
    }
   ],
   "source": [
    "cust.shape"
   ]
  },
  {
   "cell_type": "code",
   "execution_count": 6,
   "id": "efc188f0-e5e1-4e18-a29e-7b02661cbb40",
   "metadata": {},
   "outputs": [],
   "source": [
    "final = pd.merge(left=claim, right=cust, left_on='customer_id', right_on='CUST_ID')"
   ]
  },
  {
   "cell_type": "code",
   "execution_count": 7,
   "id": "dc6a48fa-32b1-4cbe-954f-a34d1c2f2290",
   "metadata": {},
   "outputs": [
    {
     "data": {
      "text/plain": [
       "(1085, 16)"
      ]
     },
     "execution_count": 7,
     "metadata": {},
     "output_type": "execute_result"
    }
   ],
   "source": [
    "final.shape"
   ]
  },
  {
   "cell_type": "code",
   "execution_count": 8,
   "id": "73160245-d2ed-4c02-80ba-f024bff5dd97",
   "metadata": {
    "scrolled": true
   },
   "outputs": [
    {
     "data": {
      "text/html": [
       "<div>\n",
       "<style scoped>\n",
       "    .dataframe tbody tr th:only-of-type {\n",
       "        vertical-align: middle;\n",
       "    }\n",
       "\n",
       "    .dataframe tbody tr th {\n",
       "        vertical-align: top;\n",
       "    }\n",
       "\n",
       "    .dataframe thead th {\n",
       "        text-align: right;\n",
       "    }\n",
       "</style>\n",
       "<table border=\"1\" class=\"dataframe\">\n",
       "  <thead>\n",
       "    <tr style=\"text-align: right;\">\n",
       "      <th></th>\n",
       "      <th>claim_id</th>\n",
       "      <th>customer_id</th>\n",
       "      <th>incident_cause</th>\n",
       "      <th>claim_date</th>\n",
       "      <th>claim_area</th>\n",
       "      <th>police_report</th>\n",
       "      <th>claim_type</th>\n",
       "      <th>claim_amount</th>\n",
       "      <th>total_policy_claims</th>\n",
       "      <th>fraudulent</th>\n",
       "      <th>CUST_ID</th>\n",
       "      <th>gender</th>\n",
       "      <th>DateOfBirth</th>\n",
       "      <th>State</th>\n",
       "      <th>Contact</th>\n",
       "      <th>Segment</th>\n",
       "    </tr>\n",
       "  </thead>\n",
       "  <tbody>\n",
       "    <tr>\n",
       "      <th>0</th>\n",
       "      <td>54004764</td>\n",
       "      <td>21868593</td>\n",
       "      <td>Driver error</td>\n",
       "      <td>11/27/2017</td>\n",
       "      <td>Auto</td>\n",
       "      <td>No</td>\n",
       "      <td>Material only</td>\n",
       "      <td>$2980</td>\n",
       "      <td>1.0</td>\n",
       "      <td>No</td>\n",
       "      <td>21868593</td>\n",
       "      <td>Female</td>\n",
       "      <td>12-Jan-79</td>\n",
       "      <td>VT</td>\n",
       "      <td>789-916-8172</td>\n",
       "      <td>Platinum</td>\n",
       "    </tr>\n",
       "    <tr>\n",
       "      <th>1</th>\n",
       "      <td>33985796</td>\n",
       "      <td>75740424</td>\n",
       "      <td>Crime</td>\n",
       "      <td>10/03/2018</td>\n",
       "      <td>Home</td>\n",
       "      <td>Unknown</td>\n",
       "      <td>Material only</td>\n",
       "      <td>$2980</td>\n",
       "      <td>3.0</td>\n",
       "      <td>No</td>\n",
       "      <td>75740424</td>\n",
       "      <td>Female</td>\n",
       "      <td>13-Jan-70</td>\n",
       "      <td>ME</td>\n",
       "      <td>265-543-1264</td>\n",
       "      <td>Silver</td>\n",
       "    </tr>\n",
       "    <tr>\n",
       "      <th>2</th>\n",
       "      <td>53522022</td>\n",
       "      <td>30308357</td>\n",
       "      <td>Other driver error</td>\n",
       "      <td>02/02/2018</td>\n",
       "      <td>Auto</td>\n",
       "      <td>No</td>\n",
       "      <td>Material only</td>\n",
       "      <td>$3369.5</td>\n",
       "      <td>1.0</td>\n",
       "      <td>Yes</td>\n",
       "      <td>30308357</td>\n",
       "      <td>Female</td>\n",
       "      <td>11-Mar-84</td>\n",
       "      <td>TN</td>\n",
       "      <td>798-631-4758</td>\n",
       "      <td>Silver</td>\n",
       "    </tr>\n",
       "    <tr>\n",
       "      <th>3</th>\n",
       "      <td>13015401</td>\n",
       "      <td>47830476</td>\n",
       "      <td>Natural causes</td>\n",
       "      <td>06/17/2018</td>\n",
       "      <td>Auto</td>\n",
       "      <td>No</td>\n",
       "      <td>Material only</td>\n",
       "      <td>$1680</td>\n",
       "      <td>1.0</td>\n",
       "      <td>No</td>\n",
       "      <td>47830476</td>\n",
       "      <td>Female</td>\n",
       "      <td>01-May-86</td>\n",
       "      <td>MA</td>\n",
       "      <td>413-187-7945</td>\n",
       "      <td>Silver</td>\n",
       "    </tr>\n",
       "    <tr>\n",
       "      <th>4</th>\n",
       "      <td>22890252</td>\n",
       "      <td>19269962</td>\n",
       "      <td>Crime</td>\n",
       "      <td>01/13/2018</td>\n",
       "      <td>Auto</td>\n",
       "      <td>No</td>\n",
       "      <td>Material only</td>\n",
       "      <td>$2680</td>\n",
       "      <td>1.0</td>\n",
       "      <td>No</td>\n",
       "      <td>19269962</td>\n",
       "      <td>Male</td>\n",
       "      <td>13-May-77</td>\n",
       "      <td>NV</td>\n",
       "      <td>956-871-8691</td>\n",
       "      <td>Gold</td>\n",
       "    </tr>\n",
       "  </tbody>\n",
       "</table>\n",
       "</div>"
      ],
      "text/plain": [
       "   claim_id  customer_id      incident_cause  claim_date claim_area  \\\n",
       "0  54004764     21868593        Driver error  11/27/2017       Auto   \n",
       "1  33985796     75740424               Crime  10/03/2018       Home   \n",
       "2  53522022     30308357  Other driver error  02/02/2018       Auto   \n",
       "3  13015401     47830476      Natural causes  06/17/2018       Auto   \n",
       "4  22890252     19269962               Crime  01/13/2018       Auto   \n",
       "\n",
       "  police_report     claim_type claim_amount  total_policy_claims fraudulent  \\\n",
       "0            No  Material only        $2980                  1.0         No   \n",
       "1       Unknown  Material only        $2980                  3.0         No   \n",
       "2            No  Material only      $3369.5                  1.0        Yes   \n",
       "3            No  Material only        $1680                  1.0         No   \n",
       "4            No  Material only        $2680                  1.0         No   \n",
       "\n",
       "    CUST_ID  gender DateOfBirth State       Contact   Segment  \n",
       "0  21868593  Female   12-Jan-79    VT  789-916-8172  Platinum  \n",
       "1  75740424  Female   13-Jan-70    ME  265-543-1264    Silver  \n",
       "2  30308357  Female   11-Mar-84    TN  798-631-4758    Silver  \n",
       "3  47830476  Female   01-May-86    MA  413-187-7945    Silver  \n",
       "4  19269962    Male   13-May-77    NV  956-871-8691      Gold  "
      ]
     },
     "execution_count": 8,
     "metadata": {},
     "output_type": "execute_result"
    }
   ],
   "source": [
    "final.head()"
   ]
  },
  {
   "cell_type": "code",
   "execution_count": 9,
   "id": "bc63e633-763a-44c0-8101-cab59066848e",
   "metadata": {
    "scrolled": true
   },
   "outputs": [
    {
     "name": "stdout",
     "output_type": "stream",
     "text": [
      "<class 'pandas.core.frame.DataFrame'>\n",
      "RangeIndex: 1085 entries, 0 to 1084\n",
      "Data columns (total 16 columns):\n",
      " #   Column               Non-Null Count  Dtype  \n",
      "---  ------               --------------  -----  \n",
      " 0   claim_id             1085 non-null   int64  \n",
      " 1   customer_id          1085 non-null   int64  \n",
      " 2   incident_cause       1085 non-null   object \n",
      " 3   claim_date           1085 non-null   object \n",
      " 4   claim_area           1085 non-null   object \n",
      " 5   police_report        1085 non-null   object \n",
      " 6   claim_type           1085 non-null   object \n",
      " 7   claim_amount         1020 non-null   object \n",
      " 8   total_policy_claims  1075 non-null   float64\n",
      " 9   fraudulent           1085 non-null   object \n",
      " 10  CUST_ID              1085 non-null   int64  \n",
      " 11  gender               1085 non-null   object \n",
      " 12  DateOfBirth          1085 non-null   object \n",
      " 13  State                1085 non-null   object \n",
      " 14  Contact              1085 non-null   object \n",
      " 15  Segment              1085 non-null   object \n",
      "dtypes: float64(1), int64(3), object(12)\n",
      "memory usage: 135.8+ KB\n"
     ]
    }
   ],
   "source": [
    "final.info()"
   ]
  },
  {
   "cell_type": "code",
   "execution_count": 10,
   "id": "8ab133b5-627e-467f-8853-45e9edd34d3a",
   "metadata": {},
   "outputs": [],
   "source": [
    "final['claim_date'] = pd.to_datetime(final['claim_date'],format='%m/%d/%Y')\n",
    "final['DateOfBirth'] = pd.to_datetime(final['DateOfBirth'], format='%d-%b-%y')"
   ]
  },
  {
   "cell_type": "code",
   "execution_count": 11,
   "id": "ab4aedcf-9fed-45dd-a602-8ba7f0693565",
   "metadata": {
    "scrolled": true
   },
   "outputs": [
    {
     "data": {
      "text/html": [
       "<div>\n",
       "<style scoped>\n",
       "    .dataframe tbody tr th:only-of-type {\n",
       "        vertical-align: middle;\n",
       "    }\n",
       "\n",
       "    .dataframe tbody tr th {\n",
       "        vertical-align: top;\n",
       "    }\n",
       "\n",
       "    .dataframe thead th {\n",
       "        text-align: right;\n",
       "    }\n",
       "</style>\n",
       "<table border=\"1\" class=\"dataframe\">\n",
       "  <thead>\n",
       "    <tr style=\"text-align: right;\">\n",
       "      <th></th>\n",
       "      <th>DateOfBirth</th>\n",
       "      <th>claim_date</th>\n",
       "    </tr>\n",
       "  </thead>\n",
       "  <tbody>\n",
       "    <tr>\n",
       "      <th>0</th>\n",
       "      <td>1979-01-12</td>\n",
       "      <td>2017-11-27</td>\n",
       "    </tr>\n",
       "    <tr>\n",
       "      <th>1</th>\n",
       "      <td>1970-01-13</td>\n",
       "      <td>2018-10-03</td>\n",
       "    </tr>\n",
       "    <tr>\n",
       "      <th>2</th>\n",
       "      <td>1984-03-11</td>\n",
       "      <td>2018-02-02</td>\n",
       "    </tr>\n",
       "    <tr>\n",
       "      <th>3</th>\n",
       "      <td>1986-05-01</td>\n",
       "      <td>2018-06-17</td>\n",
       "    </tr>\n",
       "    <tr>\n",
       "      <th>4</th>\n",
       "      <td>1977-05-13</td>\n",
       "      <td>2018-01-13</td>\n",
       "    </tr>\n",
       "    <tr>\n",
       "      <th>...</th>\n",
       "      <td>...</td>\n",
       "      <td>...</td>\n",
       "    </tr>\n",
       "    <tr>\n",
       "      <th>1080</th>\n",
       "      <td>1981-03-15</td>\n",
       "      <td>2018-09-06</td>\n",
       "    </tr>\n",
       "    <tr>\n",
       "      <th>1081</th>\n",
       "      <td>1996-07-07</td>\n",
       "      <td>2017-05-09</td>\n",
       "    </tr>\n",
       "    <tr>\n",
       "      <th>1082</th>\n",
       "      <td>1990-04-11</td>\n",
       "      <td>2017-05-15</td>\n",
       "    </tr>\n",
       "    <tr>\n",
       "      <th>1083</th>\n",
       "      <td>2064-10-22</td>\n",
       "      <td>2017-04-18</td>\n",
       "    </tr>\n",
       "    <tr>\n",
       "      <th>1084</th>\n",
       "      <td>1995-07-12</td>\n",
       "      <td>2017-03-16</td>\n",
       "    </tr>\n",
       "  </tbody>\n",
       "</table>\n",
       "<p>1085 rows × 2 columns</p>\n",
       "</div>"
      ],
      "text/plain": [
       "     DateOfBirth claim_date\n",
       "0     1979-01-12 2017-11-27\n",
       "1     1970-01-13 2018-10-03\n",
       "2     1984-03-11 2018-02-02\n",
       "3     1986-05-01 2018-06-17\n",
       "4     1977-05-13 2018-01-13\n",
       "...          ...        ...\n",
       "1080  1981-03-15 2018-09-06\n",
       "1081  1996-07-07 2017-05-09\n",
       "1082  1990-04-11 2017-05-15\n",
       "1083  2064-10-22 2017-04-18\n",
       "1084  1995-07-12 2017-03-16\n",
       "\n",
       "[1085 rows x 2 columns]"
      ]
     },
     "execution_count": 11,
     "metadata": {},
     "output_type": "execute_result"
    }
   ],
   "source": [
    "final[['DateOfBirth','claim_date']]"
   ]
  },
  {
   "cell_type": "markdown",
   "id": "0c055baf-adb9-45d7-bc99-693a8748ab35",
   "metadata": {},
   "source": [
    "3. Convert the column claim_amount to numeric. Use the appropriate \n",
    "modules/attributes to remove the $ sign."
   ]
  },
  {
   "cell_type": "code",
   "execution_count": 13,
   "id": "73b3839e-06aa-4d1d-9b24-a2a81977bd43",
   "metadata": {
    "scrolled": true
   },
   "outputs": [
    {
     "name": "stderr",
     "output_type": "stream",
     "text": [
      "C:\\Users\\ANIL KUMAR\\AppData\\Local\\Temp\\ipykernel_24312\\2137106506.py:1: FutureWarning: A value is trying to be set on a copy of a DataFrame or Series through chained assignment using an inplace method.\n",
      "The behavior will change in pandas 3.0. This inplace method will never work because the intermediate object on which we are setting values always behaves as a copy.\n",
      "\n",
      "For example, when doing 'df[col].method(value, inplace=True)', try using 'df.method({col: value}, inplace=True)' or df[col] = df[col].method(value) instead, to perform the operation inplace on the original object.\n",
      "\n",
      "\n",
      "  final['claim_amount'].replace('[$]','',regex=True, inplace=True)\n"
     ]
    }
   ],
   "source": [
    "final['claim_amount'].replace('[$]','',regex=True, inplace=True)"
   ]
  },
  {
   "cell_type": "code",
   "execution_count": 14,
   "id": "1e623fab-44ba-4f67-86e2-d0de3ad4fa36",
   "metadata": {},
   "outputs": [],
   "source": [
    "final['claim_amount'] = final.claim_amount.astype('float64')"
   ]
  },
  {
   "cell_type": "code",
   "execution_count": 15,
   "id": "0e64c72c-689f-4658-adab-a66e5b1caaf0",
   "metadata": {
    "scrolled": true
   },
   "outputs": [
    {
     "name": "stdout",
     "output_type": "stream",
     "text": [
      "<class 'pandas.core.frame.DataFrame'>\n",
      "RangeIndex: 1085 entries, 0 to 1084\n",
      "Data columns (total 16 columns):\n",
      " #   Column               Non-Null Count  Dtype         \n",
      "---  ------               --------------  -----         \n",
      " 0   claim_id             1085 non-null   int64         \n",
      " 1   customer_id          1085 non-null   int64         \n",
      " 2   incident_cause       1085 non-null   object        \n",
      " 3   claim_date           1085 non-null   datetime64[ns]\n",
      " 4   claim_area           1085 non-null   object        \n",
      " 5   police_report        1085 non-null   object        \n",
      " 6   claim_type           1085 non-null   object        \n",
      " 7   claim_amount         1020 non-null   float64       \n",
      " 8   total_policy_claims  1075 non-null   float64       \n",
      " 9   fraudulent           1085 non-null   object        \n",
      " 10  CUST_ID              1085 non-null   int64         \n",
      " 11  gender               1085 non-null   object        \n",
      " 12  DateOfBirth          1085 non-null   datetime64[ns]\n",
      " 13  State                1085 non-null   object        \n",
      " 14  Contact              1085 non-null   object        \n",
      " 15  Segment              1085 non-null   object        \n",
      "dtypes: datetime64[ns](2), float64(2), int64(3), object(9)\n",
      "memory usage: 135.8+ KB\n"
     ]
    }
   ],
   "source": [
    "final.info()"
   ]
  },
  {
   "cell_type": "markdown",
   "id": "af9211ef-e94c-4d18-b5d7-f8036ffc503b",
   "metadata": {},
   "source": [
    " 4. Of all the injury claims, some of them have gone unreported with the \n",
    "police. Create an alert flag (1,0) for all such claims."
   ]
  },
  {
   "cell_type": "code",
   "execution_count": 17,
   "id": "3639dbd8-b007-4544-b213-4ef705ef5653",
   "metadata": {},
   "outputs": [],
   "source": [
    "final['alert_flag'] = final['police_report'].apply(lambda x: 1 if x == 'Yes' else 0)"
   ]
  },
  {
   "cell_type": "code",
   "execution_count": 18,
   "id": "0228efe9-f43b-4066-af08-46efad0e289d",
   "metadata": {
    "scrolled": true
   },
   "outputs": [
    {
     "data": {
      "text/html": [
       "<div>\n",
       "<style scoped>\n",
       "    .dataframe tbody tr th:only-of-type {\n",
       "        vertical-align: middle;\n",
       "    }\n",
       "\n",
       "    .dataframe tbody tr th {\n",
       "        vertical-align: top;\n",
       "    }\n",
       "\n",
       "    .dataframe thead th {\n",
       "        text-align: right;\n",
       "    }\n",
       "</style>\n",
       "<table border=\"1\" class=\"dataframe\">\n",
       "  <thead>\n",
       "    <tr style=\"text-align: right;\">\n",
       "      <th></th>\n",
       "      <th>claim_id</th>\n",
       "      <th>customer_id</th>\n",
       "      <th>incident_cause</th>\n",
       "      <th>claim_date</th>\n",
       "      <th>claim_area</th>\n",
       "      <th>police_report</th>\n",
       "      <th>claim_type</th>\n",
       "      <th>claim_amount</th>\n",
       "      <th>total_policy_claims</th>\n",
       "      <th>fraudulent</th>\n",
       "      <th>CUST_ID</th>\n",
       "      <th>gender</th>\n",
       "      <th>DateOfBirth</th>\n",
       "      <th>State</th>\n",
       "      <th>Contact</th>\n",
       "      <th>Segment</th>\n",
       "      <th>alert_flag</th>\n",
       "    </tr>\n",
       "  </thead>\n",
       "  <tbody>\n",
       "    <tr>\n",
       "      <th>0</th>\n",
       "      <td>54004764</td>\n",
       "      <td>21868593</td>\n",
       "      <td>Driver error</td>\n",
       "      <td>2017-11-27</td>\n",
       "      <td>Auto</td>\n",
       "      <td>No</td>\n",
       "      <td>Material only</td>\n",
       "      <td>2980.0</td>\n",
       "      <td>1.0</td>\n",
       "      <td>No</td>\n",
       "      <td>21868593</td>\n",
       "      <td>Female</td>\n",
       "      <td>1979-01-12</td>\n",
       "      <td>VT</td>\n",
       "      <td>789-916-8172</td>\n",
       "      <td>Platinum</td>\n",
       "      <td>0</td>\n",
       "    </tr>\n",
       "    <tr>\n",
       "      <th>1</th>\n",
       "      <td>33985796</td>\n",
       "      <td>75740424</td>\n",
       "      <td>Crime</td>\n",
       "      <td>2018-10-03</td>\n",
       "      <td>Home</td>\n",
       "      <td>Unknown</td>\n",
       "      <td>Material only</td>\n",
       "      <td>2980.0</td>\n",
       "      <td>3.0</td>\n",
       "      <td>No</td>\n",
       "      <td>75740424</td>\n",
       "      <td>Female</td>\n",
       "      <td>1970-01-13</td>\n",
       "      <td>ME</td>\n",
       "      <td>265-543-1264</td>\n",
       "      <td>Silver</td>\n",
       "      <td>0</td>\n",
       "    </tr>\n",
       "    <tr>\n",
       "      <th>2</th>\n",
       "      <td>53522022</td>\n",
       "      <td>30308357</td>\n",
       "      <td>Other driver error</td>\n",
       "      <td>2018-02-02</td>\n",
       "      <td>Auto</td>\n",
       "      <td>No</td>\n",
       "      <td>Material only</td>\n",
       "      <td>3369.5</td>\n",
       "      <td>1.0</td>\n",
       "      <td>Yes</td>\n",
       "      <td>30308357</td>\n",
       "      <td>Female</td>\n",
       "      <td>1984-03-11</td>\n",
       "      <td>TN</td>\n",
       "      <td>798-631-4758</td>\n",
       "      <td>Silver</td>\n",
       "      <td>0</td>\n",
       "    </tr>\n",
       "    <tr>\n",
       "      <th>3</th>\n",
       "      <td>13015401</td>\n",
       "      <td>47830476</td>\n",
       "      <td>Natural causes</td>\n",
       "      <td>2018-06-17</td>\n",
       "      <td>Auto</td>\n",
       "      <td>No</td>\n",
       "      <td>Material only</td>\n",
       "      <td>1680.0</td>\n",
       "      <td>1.0</td>\n",
       "      <td>No</td>\n",
       "      <td>47830476</td>\n",
       "      <td>Female</td>\n",
       "      <td>1986-05-01</td>\n",
       "      <td>MA</td>\n",
       "      <td>413-187-7945</td>\n",
       "      <td>Silver</td>\n",
       "      <td>0</td>\n",
       "    </tr>\n",
       "    <tr>\n",
       "      <th>4</th>\n",
       "      <td>22890252</td>\n",
       "      <td>19269962</td>\n",
       "      <td>Crime</td>\n",
       "      <td>2018-01-13</td>\n",
       "      <td>Auto</td>\n",
       "      <td>No</td>\n",
       "      <td>Material only</td>\n",
       "      <td>2680.0</td>\n",
       "      <td>1.0</td>\n",
       "      <td>No</td>\n",
       "      <td>19269962</td>\n",
       "      <td>Male</td>\n",
       "      <td>1977-05-13</td>\n",
       "      <td>NV</td>\n",
       "      <td>956-871-8691</td>\n",
       "      <td>Gold</td>\n",
       "      <td>0</td>\n",
       "    </tr>\n",
       "  </tbody>\n",
       "</table>\n",
       "</div>"
      ],
      "text/plain": [
       "   claim_id  customer_id      incident_cause claim_date claim_area  \\\n",
       "0  54004764     21868593        Driver error 2017-11-27       Auto   \n",
       "1  33985796     75740424               Crime 2018-10-03       Home   \n",
       "2  53522022     30308357  Other driver error 2018-02-02       Auto   \n",
       "3  13015401     47830476      Natural causes 2018-06-17       Auto   \n",
       "4  22890252     19269962               Crime 2018-01-13       Auto   \n",
       "\n",
       "  police_report     claim_type  claim_amount  total_policy_claims fraudulent  \\\n",
       "0            No  Material only        2980.0                  1.0         No   \n",
       "1       Unknown  Material only        2980.0                  3.0         No   \n",
       "2            No  Material only        3369.5                  1.0        Yes   \n",
       "3            No  Material only        1680.0                  1.0         No   \n",
       "4            No  Material only        2680.0                  1.0         No   \n",
       "\n",
       "    CUST_ID  gender DateOfBirth State       Contact   Segment  alert_flag  \n",
       "0  21868593  Female  1979-01-12    VT  789-916-8172  Platinum           0  \n",
       "1  75740424  Female  1970-01-13    ME  265-543-1264    Silver           0  \n",
       "2  30308357  Female  1984-03-11    TN  798-631-4758    Silver           0  \n",
       "3  47830476  Female  1986-05-01    MA  413-187-7945    Silver           0  \n",
       "4  19269962    Male  1977-05-13    NV  956-871-8691      Gold           0  "
      ]
     },
     "execution_count": 18,
     "metadata": {},
     "output_type": "execute_result"
    }
   ],
   "source": [
    "final.head()"
   ]
  },
  {
   "cell_type": "code",
   "execution_count": 19,
   "id": "22d8e431-fffe-4658-bf30-07cb4dea0811",
   "metadata": {},
   "outputs": [],
   "source": [
    "a = final.groupby(by = ['customer_id','claim_type'])['claim_id'].count().reset_index()"
   ]
  },
  {
   "cell_type": "markdown",
   "id": "06a9ff8e-dc64-4e2c-8fc0-0db5f89cbe89",
   "metadata": {},
   "source": [
    " 5. One customer can claim for insurance more than once and in each claim,\n",
    " multiple categories of claims can be involved. However, customer ID \n",
    "should remain unique. "
   ]
  },
  {
   "cell_type": "code",
   "execution_count": 21,
   "id": "f6fcf4d8-a4aa-4dc3-abdb-61bc0e610d53",
   "metadata": {},
   "outputs": [
    {
     "data": {
      "text/html": [
       "<div>\n",
       "<style scoped>\n",
       "    .dataframe tbody tr th:only-of-type {\n",
       "        vertical-align: middle;\n",
       "    }\n",
       "\n",
       "    .dataframe tbody tr th {\n",
       "        vertical-align: top;\n",
       "    }\n",
       "\n",
       "    .dataframe thead th {\n",
       "        text-align: right;\n",
       "    }\n",
       "</style>\n",
       "<table border=\"1\" class=\"dataframe\">\n",
       "  <thead>\n",
       "    <tr style=\"text-align: right;\">\n",
       "      <th></th>\n",
       "      <th>claim_id</th>\n",
       "      <th>customer_id</th>\n",
       "      <th>incident_cause</th>\n",
       "      <th>claim_date</th>\n",
       "      <th>claim_area</th>\n",
       "      <th>police_report</th>\n",
       "      <th>claim_type</th>\n",
       "      <th>claim_amount</th>\n",
       "      <th>total_policy_claims</th>\n",
       "      <th>fraudulent</th>\n",
       "      <th>CUST_ID</th>\n",
       "      <th>gender</th>\n",
       "      <th>DateOfBirth</th>\n",
       "      <th>State</th>\n",
       "      <th>Contact</th>\n",
       "      <th>Segment</th>\n",
       "      <th>alert_flag</th>\n",
       "    </tr>\n",
       "  </thead>\n",
       "  <tbody>\n",
       "    <tr>\n",
       "      <th>0</th>\n",
       "      <td>54004764</td>\n",
       "      <td>21868593</td>\n",
       "      <td>Driver error</td>\n",
       "      <td>2017-11-27</td>\n",
       "      <td>Auto</td>\n",
       "      <td>No</td>\n",
       "      <td>Material only</td>\n",
       "      <td>2980.0</td>\n",
       "      <td>1.0</td>\n",
       "      <td>No</td>\n",
       "      <td>21868593</td>\n",
       "      <td>Female</td>\n",
       "      <td>1979-01-12</td>\n",
       "      <td>VT</td>\n",
       "      <td>789-916-8172</td>\n",
       "      <td>Platinum</td>\n",
       "      <td>0</td>\n",
       "    </tr>\n",
       "    <tr>\n",
       "      <th>1</th>\n",
       "      <td>33985796</td>\n",
       "      <td>75740424</td>\n",
       "      <td>Crime</td>\n",
       "      <td>2018-10-03</td>\n",
       "      <td>Home</td>\n",
       "      <td>Unknown</td>\n",
       "      <td>Material only</td>\n",
       "      <td>2980.0</td>\n",
       "      <td>3.0</td>\n",
       "      <td>No</td>\n",
       "      <td>75740424</td>\n",
       "      <td>Female</td>\n",
       "      <td>1970-01-13</td>\n",
       "      <td>ME</td>\n",
       "      <td>265-543-1264</td>\n",
       "      <td>Silver</td>\n",
       "      <td>0</td>\n",
       "    </tr>\n",
       "    <tr>\n",
       "      <th>6</th>\n",
       "      <td>12878692</td>\n",
       "      <td>18401412</td>\n",
       "      <td>Driver error</td>\n",
       "      <td>2018-01-13</td>\n",
       "      <td>Auto</td>\n",
       "      <td>No</td>\n",
       "      <td>Material only</td>\n",
       "      <td>1730.0</td>\n",
       "      <td>4.0</td>\n",
       "      <td>No</td>\n",
       "      <td>18401412</td>\n",
       "      <td>Male</td>\n",
       "      <td>1999-03-02</td>\n",
       "      <td>AR</td>\n",
       "      <td>752-398-2914</td>\n",
       "      <td>Gold</td>\n",
       "      <td>0</td>\n",
       "    </tr>\n",
       "    <tr>\n",
       "      <th>7</th>\n",
       "      <td>27026412</td>\n",
       "      <td>73486606</td>\n",
       "      <td>Natural causes</td>\n",
       "      <td>2018-04-10</td>\n",
       "      <td>Auto</td>\n",
       "      <td>No</td>\n",
       "      <td>Material only</td>\n",
       "      <td>1160.0</td>\n",
       "      <td>3.0</td>\n",
       "      <td>No</td>\n",
       "      <td>73486606</td>\n",
       "      <td>Male</td>\n",
       "      <td>1999-10-25</td>\n",
       "      <td>AK</td>\n",
       "      <td>256-968-9172</td>\n",
       "      <td>Silver</td>\n",
       "      <td>0</td>\n",
       "    </tr>\n",
       "    <tr>\n",
       "      <th>8</th>\n",
       "      <td>43908336</td>\n",
       "      <td>32813689</td>\n",
       "      <td>Crime</td>\n",
       "      <td>2018-02-15</td>\n",
       "      <td>Auto</td>\n",
       "      <td>Unknown</td>\n",
       "      <td>Material only</td>\n",
       "      <td>2620.0</td>\n",
       "      <td>1.0</td>\n",
       "      <td>No</td>\n",
       "      <td>32813689</td>\n",
       "      <td>Male</td>\n",
       "      <td>1993-10-12</td>\n",
       "      <td>ID</td>\n",
       "      <td>142-324-7481</td>\n",
       "      <td>Silver</td>\n",
       "      <td>0</td>\n",
       "    </tr>\n",
       "    <tr>\n",
       "      <th>...</th>\n",
       "      <td>...</td>\n",
       "      <td>...</td>\n",
       "      <td>...</td>\n",
       "      <td>...</td>\n",
       "      <td>...</td>\n",
       "      <td>...</td>\n",
       "      <td>...</td>\n",
       "      <td>...</td>\n",
       "      <td>...</td>\n",
       "      <td>...</td>\n",
       "      <td>...</td>\n",
       "      <td>...</td>\n",
       "      <td>...</td>\n",
       "      <td>...</td>\n",
       "      <td>...</td>\n",
       "      <td>...</td>\n",
       "      <td>...</td>\n",
       "    </tr>\n",
       "    <tr>\n",
       "      <th>1080</th>\n",
       "      <td>62020796</td>\n",
       "      <td>79539873</td>\n",
       "      <td>Other driver error</td>\n",
       "      <td>2018-09-06</td>\n",
       "      <td>Auto</td>\n",
       "      <td>Yes</td>\n",
       "      <td>Material only</td>\n",
       "      <td>1770.0</td>\n",
       "      <td>1.0</td>\n",
       "      <td>No</td>\n",
       "      <td>79539873</td>\n",
       "      <td>Female</td>\n",
       "      <td>1981-03-15</td>\n",
       "      <td>ND</td>\n",
       "      <td>459-425-4319</td>\n",
       "      <td>Platinum</td>\n",
       "      <td>1</td>\n",
       "    </tr>\n",
       "    <tr>\n",
       "      <th>1081</th>\n",
       "      <td>63269067</td>\n",
       "      <td>42364152</td>\n",
       "      <td>Other causes</td>\n",
       "      <td>2017-05-09</td>\n",
       "      <td>Home</td>\n",
       "      <td>No</td>\n",
       "      <td>Material only</td>\n",
       "      <td>2800.0</td>\n",
       "      <td>1.0</td>\n",
       "      <td>No</td>\n",
       "      <td>42364152</td>\n",
       "      <td>Female</td>\n",
       "      <td>1996-07-07</td>\n",
       "      <td>ID</td>\n",
       "      <td>529-462-1635</td>\n",
       "      <td>Silver</td>\n",
       "      <td>0</td>\n",
       "    </tr>\n",
       "    <tr>\n",
       "      <th>1082</th>\n",
       "      <td>22690595</td>\n",
       "      <td>19888166</td>\n",
       "      <td>Other driver error</td>\n",
       "      <td>2017-05-15</td>\n",
       "      <td>Auto</td>\n",
       "      <td>Yes</td>\n",
       "      <td>Injury only</td>\n",
       "      <td>33080.0</td>\n",
       "      <td>2.0</td>\n",
       "      <td>No</td>\n",
       "      <td>19888166</td>\n",
       "      <td>Male</td>\n",
       "      <td>1990-04-11</td>\n",
       "      <td>WI</td>\n",
       "      <td>712-651-9613</td>\n",
       "      <td>Gold</td>\n",
       "      <td>1</td>\n",
       "    </tr>\n",
       "    <tr>\n",
       "      <th>1083</th>\n",
       "      <td>12376894</td>\n",
       "      <td>11256802</td>\n",
       "      <td>Other driver error</td>\n",
       "      <td>2017-04-18</td>\n",
       "      <td>Auto</td>\n",
       "      <td>No</td>\n",
       "      <td>Material only</td>\n",
       "      <td>2840.0</td>\n",
       "      <td>4.0</td>\n",
       "      <td>No</td>\n",
       "      <td>11256802</td>\n",
       "      <td>Female</td>\n",
       "      <td>2064-10-22</td>\n",
       "      <td>LA</td>\n",
       "      <td>469-345-5617</td>\n",
       "      <td>Silver</td>\n",
       "      <td>0</td>\n",
       "    </tr>\n",
       "    <tr>\n",
       "      <th>1084</th>\n",
       "      <td>63226031</td>\n",
       "      <td>61575264</td>\n",
       "      <td>Natural causes</td>\n",
       "      <td>2017-03-16</td>\n",
       "      <td>Auto</td>\n",
       "      <td>No</td>\n",
       "      <td>Material only</td>\n",
       "      <td>1490.0</td>\n",
       "      <td>1.0</td>\n",
       "      <td>No</td>\n",
       "      <td>61575264</td>\n",
       "      <td>Male</td>\n",
       "      <td>1995-07-12</td>\n",
       "      <td>WY</td>\n",
       "      <td>182-385-1392</td>\n",
       "      <td>Gold</td>\n",
       "      <td>0</td>\n",
       "    </tr>\n",
       "  </tbody>\n",
       "</table>\n",
       "<p>1078 rows × 17 columns</p>\n",
       "</div>"
      ],
      "text/plain": [
       "      claim_id  customer_id      incident_cause claim_date claim_area  \\\n",
       "0     54004764     21868593        Driver error 2017-11-27       Auto   \n",
       "1     33985796     75740424               Crime 2018-10-03       Home   \n",
       "6     12878692     18401412        Driver error 2018-01-13       Auto   \n",
       "7     27026412     73486606      Natural causes 2018-04-10       Auto   \n",
       "8     43908336     32813689               Crime 2018-02-15       Auto   \n",
       "...        ...          ...                 ...        ...        ...   \n",
       "1080  62020796     79539873  Other driver error 2018-09-06       Auto   \n",
       "1081  63269067     42364152        Other causes 2017-05-09       Home   \n",
       "1082  22690595     19888166  Other driver error 2017-05-15       Auto   \n",
       "1083  12376894     11256802  Other driver error 2017-04-18       Auto   \n",
       "1084  63226031     61575264      Natural causes 2017-03-16       Auto   \n",
       "\n",
       "     police_report     claim_type  claim_amount  total_policy_claims  \\\n",
       "0               No  Material only        2980.0                  1.0   \n",
       "1          Unknown  Material only        2980.0                  3.0   \n",
       "6               No  Material only        1730.0                  4.0   \n",
       "7               No  Material only        1160.0                  3.0   \n",
       "8          Unknown  Material only        2620.0                  1.0   \n",
       "...            ...            ...           ...                  ...   \n",
       "1080           Yes  Material only        1770.0                  1.0   \n",
       "1081            No  Material only        2800.0                  1.0   \n",
       "1082           Yes    Injury only       33080.0                  2.0   \n",
       "1083            No  Material only        2840.0                  4.0   \n",
       "1084            No  Material only        1490.0                  1.0   \n",
       "\n",
       "     fraudulent   CUST_ID  gender DateOfBirth State       Contact   Segment  \\\n",
       "0            No  21868593  Female  1979-01-12    VT  789-916-8172  Platinum   \n",
       "1            No  75740424  Female  1970-01-13    ME  265-543-1264    Silver   \n",
       "6            No  18401412    Male  1999-03-02    AR  752-398-2914      Gold   \n",
       "7            No  73486606    Male  1999-10-25    AK  256-968-9172    Silver   \n",
       "8            No  32813689    Male  1993-10-12    ID  142-324-7481    Silver   \n",
       "...         ...       ...     ...         ...   ...           ...       ...   \n",
       "1080         No  79539873  Female  1981-03-15    ND  459-425-4319  Platinum   \n",
       "1081         No  42364152  Female  1996-07-07    ID  529-462-1635    Silver   \n",
       "1082         No  19888166    Male  1990-04-11    WI  712-651-9613      Gold   \n",
       "1083         No  11256802  Female  2064-10-22    LA  469-345-5617    Silver   \n",
       "1084         No  61575264    Male  1995-07-12    WY  182-385-1392      Gold   \n",
       "\n",
       "      alert_flag  \n",
       "0              0  \n",
       "1              0  \n",
       "6              0  \n",
       "7              0  \n",
       "8              0  \n",
       "...          ...  \n",
       "1080           1  \n",
       "1081           0  \n",
       "1082           1  \n",
       "1083           0  \n",
       "1084           0  \n",
       "\n",
       "[1078 rows x 17 columns]"
      ]
     },
     "execution_count": 21,
     "metadata": {},
     "output_type": "execute_result"
    }
   ],
   "source": [
    "final[~final.duplicated(subset='customer_id', keep='last')]"
   ]
  },
  {
   "cell_type": "code",
   "execution_count": 22,
   "id": "6b1b00f5-d45a-4309-b102-929106c9c4cd",
   "metadata": {
    "scrolled": true
   },
   "outputs": [
    {
     "data": {
      "text/html": [
       "<div>\n",
       "<style scoped>\n",
       "    .dataframe tbody tr th:only-of-type {\n",
       "        vertical-align: middle;\n",
       "    }\n",
       "\n",
       "    .dataframe tbody tr th {\n",
       "        vertical-align: top;\n",
       "    }\n",
       "\n",
       "    .dataframe thead th {\n",
       "        text-align: right;\n",
       "    }\n",
       "</style>\n",
       "<table border=\"1\" class=\"dataframe\">\n",
       "  <thead>\n",
       "    <tr style=\"text-align: right;\">\n",
       "      <th></th>\n",
       "      <th>customer_id</th>\n",
       "      <th>claim_type</th>\n",
       "      <th>claim_id</th>\n",
       "    </tr>\n",
       "  </thead>\n",
       "  <tbody>\n",
       "    <tr>\n",
       "      <th>198</th>\n",
       "      <td>19269962</td>\n",
       "      <td>Material only</td>\n",
       "      <td>2</td>\n",
       "    </tr>\n",
       "    <tr>\n",
       "      <th>313</th>\n",
       "      <td>30308357</td>\n",
       "      <td>Material only</td>\n",
       "      <td>2</td>\n",
       "    </tr>\n",
       "    <tr>\n",
       "      <th>511</th>\n",
       "      <td>47830476</td>\n",
       "      <td>Material only</td>\n",
       "      <td>2</td>\n",
       "    </tr>\n",
       "    <tr>\n",
       "      <th>913</th>\n",
       "      <td>85357756</td>\n",
       "      <td>Material only</td>\n",
       "      <td>2</td>\n",
       "    </tr>\n",
       "  </tbody>\n",
       "</table>\n",
       "</div>"
      ],
      "text/plain": [
       "     customer_id     claim_type  claim_id\n",
       "198     19269962  Material only         2\n",
       "313     30308357  Material only         2\n",
       "511     47830476  Material only         2\n",
       "913     85357756  Material only         2"
      ]
     },
     "execution_count": 22,
     "metadata": {},
     "output_type": "execute_result"
    }
   ],
   "source": [
    "a[a['claim_id'] > 1]"
   ]
  },
  {
   "cell_type": "code",
   "execution_count": 23,
   "id": "46aa0887-339d-430a-88d8-68f8063dfa8f",
   "metadata": {
    "scrolled": true
   },
   "outputs": [
    {
     "data": {
      "text/html": [
       "<div>\n",
       "<style scoped>\n",
       "    .dataframe tbody tr th:only-of-type {\n",
       "        vertical-align: middle;\n",
       "    }\n",
       "\n",
       "    .dataframe tbody tr th {\n",
       "        vertical-align: top;\n",
       "    }\n",
       "\n",
       "    .dataframe thead th {\n",
       "        text-align: right;\n",
       "    }\n",
       "</style>\n",
       "<table border=\"1\" class=\"dataframe\">\n",
       "  <thead>\n",
       "    <tr style=\"text-align: right;\">\n",
       "      <th></th>\n",
       "      <th>claim_id</th>\n",
       "      <th>customer_id</th>\n",
       "      <th>incident_cause</th>\n",
       "      <th>claim_date</th>\n",
       "      <th>claim_area</th>\n",
       "      <th>police_report</th>\n",
       "      <th>claim_type</th>\n",
       "      <th>claim_amount</th>\n",
       "      <th>total_policy_claims</th>\n",
       "      <th>fraudulent</th>\n",
       "      <th>CUST_ID</th>\n",
       "      <th>gender</th>\n",
       "      <th>DateOfBirth</th>\n",
       "      <th>State</th>\n",
       "      <th>Contact</th>\n",
       "      <th>Segment</th>\n",
       "      <th>alert_flag</th>\n",
       "    </tr>\n",
       "  </thead>\n",
       "  <tbody>\n",
       "    <tr>\n",
       "      <th>620</th>\n",
       "      <td>78221963</td>\n",
       "      <td>84147585</td>\n",
       "      <td>Driver error</td>\n",
       "      <td>2018-04-10</td>\n",
       "      <td>Auto</td>\n",
       "      <td>Yes</td>\n",
       "      <td>Injury only</td>\n",
       "      <td>14430.0</td>\n",
       "      <td>4.0</td>\n",
       "      <td>No</td>\n",
       "      <td>84147585</td>\n",
       "      <td>Male</td>\n",
       "      <td>1972-10-18</td>\n",
       "      <td>AK</td>\n",
       "      <td>743-569-4783</td>\n",
       "      <td>Gold</td>\n",
       "      <td>1</td>\n",
       "    </tr>\n",
       "    <tr>\n",
       "      <th>621</th>\n",
       "      <td>1654201</td>\n",
       "      <td>85357756</td>\n",
       "      <td>Driver error</td>\n",
       "      <td>2018-06-23</td>\n",
       "      <td>Auto</td>\n",
       "      <td>Unknown</td>\n",
       "      <td>Material only</td>\n",
       "      <td>2510.0</td>\n",
       "      <td>1.0</td>\n",
       "      <td>No</td>\n",
       "      <td>85357756</td>\n",
       "      <td>Male</td>\n",
       "      <td>1970-01-02</td>\n",
       "      <td>PA</td>\n",
       "      <td>915-698-3649</td>\n",
       "      <td>Platinum</td>\n",
       "      <td>0</td>\n",
       "    </tr>\n",
       "    <tr>\n",
       "      <th>622</th>\n",
       "      <td>41779510</td>\n",
       "      <td>53539195</td>\n",
       "      <td>Driver error</td>\n",
       "      <td>2018-10-03</td>\n",
       "      <td>Home</td>\n",
       "      <td>No</td>\n",
       "      <td>Injury only</td>\n",
       "      <td>25040.0</td>\n",
       "      <td>1.0</td>\n",
       "      <td>No</td>\n",
       "      <td>53539195</td>\n",
       "      <td>Male</td>\n",
       "      <td>1989-10-02</td>\n",
       "      <td>NV</td>\n",
       "      <td>914-342-8239</td>\n",
       "      <td>Gold</td>\n",
       "      <td>0</td>\n",
       "    </tr>\n",
       "    <tr>\n",
       "      <th>629</th>\n",
       "      <td>63017412</td>\n",
       "      <td>30308357</td>\n",
       "      <td>Driver error</td>\n",
       "      <td>2018-04-04</td>\n",
       "      <td>Auto</td>\n",
       "      <td>No</td>\n",
       "      <td>Material only</td>\n",
       "      <td>1950.0</td>\n",
       "      <td>6.0</td>\n",
       "      <td>No</td>\n",
       "      <td>30308357</td>\n",
       "      <td>Female</td>\n",
       "      <td>1984-03-11</td>\n",
       "      <td>TN</td>\n",
       "      <td>798-631-4758</td>\n",
       "      <td>Silver</td>\n",
       "      <td>0</td>\n",
       "    </tr>\n",
       "    <tr>\n",
       "      <th>630</th>\n",
       "      <td>91609100</td>\n",
       "      <td>47830476</td>\n",
       "      <td>Natural causes</td>\n",
       "      <td>2017-04-12</td>\n",
       "      <td>Auto</td>\n",
       "      <td>Unknown</td>\n",
       "      <td>Material only</td>\n",
       "      <td>1440.0</td>\n",
       "      <td>1.0</td>\n",
       "      <td>No</td>\n",
       "      <td>47830476</td>\n",
       "      <td>Female</td>\n",
       "      <td>1986-05-01</td>\n",
       "      <td>MA</td>\n",
       "      <td>413-187-7945</td>\n",
       "      <td>Silver</td>\n",
       "      <td>0</td>\n",
       "    </tr>\n",
       "    <tr>\n",
       "      <th>631</th>\n",
       "      <td>39219616</td>\n",
       "      <td>19269962</td>\n",
       "      <td>Other causes</td>\n",
       "      <td>2018-09-26</td>\n",
       "      <td>Auto</td>\n",
       "      <td>No</td>\n",
       "      <td>Material only</td>\n",
       "      <td>2240.0</td>\n",
       "      <td>2.0</td>\n",
       "      <td>No</td>\n",
       "      <td>19269962</td>\n",
       "      <td>Male</td>\n",
       "      <td>1977-05-13</td>\n",
       "      <td>NV</td>\n",
       "      <td>956-871-8691</td>\n",
       "      <td>Gold</td>\n",
       "      <td>0</td>\n",
       "    </tr>\n",
       "    <tr>\n",
       "      <th>632</th>\n",
       "      <td>91475471</td>\n",
       "      <td>21831191</td>\n",
       "      <td>Driver error</td>\n",
       "      <td>2018-02-09</td>\n",
       "      <td>Auto</td>\n",
       "      <td>Unknown</td>\n",
       "      <td>Material and injury</td>\n",
       "      <td>36810.0</td>\n",
       "      <td>1.0</td>\n",
       "      <td>No</td>\n",
       "      <td>21831191</td>\n",
       "      <td>Male</td>\n",
       "      <td>1977-05-17</td>\n",
       "      <td>NH</td>\n",
       "      <td>419-712-8513</td>\n",
       "      <td>Gold</td>\n",
       "      <td>0</td>\n",
       "    </tr>\n",
       "  </tbody>\n",
       "</table>\n",
       "</div>"
      ],
      "text/plain": [
       "     claim_id  customer_id  incident_cause claim_date claim_area  \\\n",
       "620  78221963     84147585    Driver error 2018-04-10       Auto   \n",
       "621   1654201     85357756    Driver error 2018-06-23       Auto   \n",
       "622  41779510     53539195    Driver error 2018-10-03       Home   \n",
       "629  63017412     30308357    Driver error 2018-04-04       Auto   \n",
       "630  91609100     47830476  Natural causes 2017-04-12       Auto   \n",
       "631  39219616     19269962    Other causes 2018-09-26       Auto   \n",
       "632  91475471     21831191    Driver error 2018-02-09       Auto   \n",
       "\n",
       "    police_report           claim_type  claim_amount  total_policy_claims  \\\n",
       "620           Yes          Injury only       14430.0                  4.0   \n",
       "621       Unknown        Material only        2510.0                  1.0   \n",
       "622            No          Injury only       25040.0                  1.0   \n",
       "629            No        Material only        1950.0                  6.0   \n",
       "630       Unknown        Material only        1440.0                  1.0   \n",
       "631            No        Material only        2240.0                  2.0   \n",
       "632       Unknown  Material and injury       36810.0                  1.0   \n",
       "\n",
       "    fraudulent   CUST_ID  gender DateOfBirth State       Contact   Segment  \\\n",
       "620         No  84147585    Male  1972-10-18    AK  743-569-4783      Gold   \n",
       "621         No  85357756    Male  1970-01-02    PA  915-698-3649  Platinum   \n",
       "622         No  53539195    Male  1989-10-02    NV  914-342-8239      Gold   \n",
       "629         No  30308357  Female  1984-03-11    TN  798-631-4758    Silver   \n",
       "630         No  47830476  Female  1986-05-01    MA  413-187-7945    Silver   \n",
       "631         No  19269962    Male  1977-05-13    NV  956-871-8691      Gold   \n",
       "632         No  21831191    Male  1977-05-17    NH  419-712-8513      Gold   \n",
       "\n",
       "     alert_flag  \n",
       "620           1  \n",
       "621           0  \n",
       "622           0  \n",
       "629           0  \n",
       "630           0  \n",
       "631           0  \n",
       "632           0  "
      ]
     },
     "execution_count": 23,
     "metadata": {},
     "output_type": "execute_result"
    }
   ],
   "source": [
    "final[final['customer_id'].duplicated()]"
   ]
  },
  {
   "cell_type": "code",
   "execution_count": 24,
   "id": "1765f37d-e424-43c3-8c21-13b8d0ca921a",
   "metadata": {},
   "outputs": [],
   "source": [
    "finalu  = final['customer_id'].drop_duplicates()"
   ]
  },
  {
   "cell_type": "code",
   "execution_count": 25,
   "id": "a09bf767-edf8-4c0c-9148-1e6d077cb168",
   "metadata": {},
   "outputs": [
    {
     "data": {
      "text/plain": [
       "(1078,)"
      ]
     },
     "execution_count": 25,
     "metadata": {},
     "output_type": "execute_result"
    }
   ],
   "source": [
    "finalu.shape"
   ]
  },
  {
   "cell_type": "code",
   "execution_count": 26,
   "id": "15ba90f5-455c-475c-841d-c4553fe3972e",
   "metadata": {},
   "outputs": [],
   "source": [
    "final.drop_duplicates(subset=['customer_id'], inplace=True)"
   ]
  },
  {
   "cell_type": "code",
   "execution_count": 27,
   "id": "e2df3a78-322a-4def-9956-48bd450f5f1a",
   "metadata": {},
   "outputs": [
    {
     "data": {
      "text/plain": [
       "(1078, 17)"
      ]
     },
     "execution_count": 27,
     "metadata": {},
     "output_type": "execute_result"
    }
   ],
   "source": [
    "final.shape"
   ]
  },
  {
   "cell_type": "markdown",
   "id": "cdaa35e8-eb0d-434d-a386-8c2ff8d68706",
   "metadata": {},
   "source": [
    "6. Check for missing values and impute the missing values with an \n",
    "appropriate value. (mean for continuous and mode for categorical)"
   ]
  },
  {
   "cell_type": "code",
   "execution_count": 29,
   "id": "b2dc2632-cb49-461c-817a-1a6648b526fa",
   "metadata": {
    "scrolled": true
   },
   "outputs": [
    {
     "data": {
      "text/plain": [
       "claim_id                0\n",
       "customer_id             0\n",
       "incident_cause          0\n",
       "claim_date              0\n",
       "claim_area              0\n",
       "police_report           0\n",
       "claim_type              0\n",
       "claim_amount           65\n",
       "total_policy_claims    10\n",
       "fraudulent              0\n",
       "CUST_ID                 0\n",
       "gender                  0\n",
       "DateOfBirth             0\n",
       "State                   0\n",
       "Contact                 0\n",
       "Segment                 0\n",
       "alert_flag              0\n",
       "dtype: int64"
      ]
     },
     "execution_count": 29,
     "metadata": {},
     "output_type": "execute_result"
    }
   ],
   "source": [
    "final.isna().sum()"
   ]
  },
  {
   "cell_type": "code",
   "execution_count": 30,
   "id": "2c3524cb-c150-4267-a160-46350ae27917",
   "metadata": {},
   "outputs": [
    {
     "data": {
      "text/plain": [
       "12470"
      ]
     },
     "execution_count": 30,
     "metadata": {},
     "output_type": "execute_result"
    }
   ],
   "source": [
    "round(final['claim_amount'].mean())"
   ]
  },
  {
   "cell_type": "code",
   "execution_count": 31,
   "id": "e7e84a2a-e486-44be-bacf-df28742cfc4e",
   "metadata": {},
   "outputs": [
    {
     "data": {
      "text/plain": [
       "0    1.0\n",
       "Name: total_policy_claims, dtype: float64"
      ]
     },
     "execution_count": 31,
     "metadata": {},
     "output_type": "execute_result"
    }
   ],
   "source": [
    "round(final['total_policy_claims'].mode())"
   ]
  },
  {
   "cell_type": "code",
   "execution_count": 32,
   "id": "aab16a25-491f-4af1-b8db-a6a97da6ab73",
   "metadata": {
    "scrolled": true
   },
   "outputs": [
    {
     "name": "stderr",
     "output_type": "stream",
     "text": [
      "C:\\Users\\ANIL KUMAR\\AppData\\Local\\Temp\\ipykernel_24312\\874954609.py:1: FutureWarning: A value is trying to be set on a copy of a DataFrame or Series through chained assignment using an inplace method.\n",
      "The behavior will change in pandas 3.0. This inplace method will never work because the intermediate object on which we are setting values always behaves as a copy.\n",
      "\n",
      "For example, when doing 'df[col].method(value, inplace=True)', try using 'df.method({col: value}, inplace=True)' or df[col] = df[col].method(value) instead, to perform the operation inplace on the original object.\n",
      "\n",
      "\n",
      "  final['total_policy_claims'].fillna(round(final['total_policy_claims'].mode()), inplace=True)\n"
     ]
    }
   ],
   "source": [
    "final['total_policy_claims'].fillna(round(final['total_policy_claims'].mode()), inplace=True)"
   ]
  },
  {
   "cell_type": "code",
   "execution_count": 33,
   "id": "dfbc5a96-070b-44a1-8814-571ba578823e",
   "metadata": {
    "scrolled": true
   },
   "outputs": [
    {
     "name": "stderr",
     "output_type": "stream",
     "text": [
      "C:\\Users\\ANIL KUMAR\\AppData\\Local\\Temp\\ipykernel_24312\\2874950822.py:1: FutureWarning: A value is trying to be set on a copy of a DataFrame or Series through chained assignment using an inplace method.\n",
      "The behavior will change in pandas 3.0. This inplace method will never work because the intermediate object on which we are setting values always behaves as a copy.\n",
      "\n",
      "For example, when doing 'df[col].method(value, inplace=True)', try using 'df.method({col: value}, inplace=True)' or df[col] = df[col].method(value) instead, to perform the operation inplace on the original object.\n",
      "\n",
      "\n",
      "  final['claim_amount'].fillna(round(final['claim_amount'].mean()), inplace=True)\n"
     ]
    }
   ],
   "source": [
    "final['claim_amount'].fillna(round(final['claim_amount'].mean()), inplace=True)"
   ]
  },
  {
   "cell_type": "code",
   "execution_count": 34,
   "id": "c32a28b9-d0a1-44aa-8bf0-931c31ea5ee8",
   "metadata": {
    "scrolled": true
   },
   "outputs": [
    {
     "data": {
      "text/plain": [
       "claim_id                0\n",
       "customer_id             0\n",
       "incident_cause          0\n",
       "claim_date              0\n",
       "claim_area              0\n",
       "police_report           0\n",
       "claim_type              0\n",
       "claim_amount            0\n",
       "total_policy_claims    10\n",
       "fraudulent              0\n",
       "CUST_ID                 0\n",
       "gender                  0\n",
       "DateOfBirth             0\n",
       "State                   0\n",
       "Contact                 0\n",
       "Segment                 0\n",
       "alert_flag              0\n",
       "dtype: int64"
      ]
     },
     "execution_count": 34,
     "metadata": {},
     "output_type": "execute_result"
    }
   ],
   "source": [
    "final.isnull().sum()"
   ]
  },
  {
   "cell_type": "markdown",
   "id": "2b197cfb-87ab-48b7-a1d9-9859ff7cb826",
   "metadata": {},
   "source": [
    "7. Calculate the age of customers in years. Based on the age, categorize the\n",
    " customers according to the below criteria"
   ]
  },
  {
   "cell_type": "code",
   "execution_count": 36,
   "id": "4fc3f5ad-493a-4cb4-b990-94e1433f9f21",
   "metadata": {},
   "outputs": [],
   "source": [
    "final['age'] = (final['claim_date'].dt.year - final['DateOfBirth'].dt.year)"
   ]
  },
  {
   "cell_type": "code",
   "execution_count": 37,
   "id": "90b6a638-2287-47da-b7ce-b2c8a9177d42",
   "metadata": {
    "scrolled": true
   },
   "outputs": [
    {
     "data": {
      "text/html": [
       "<div>\n",
       "<style scoped>\n",
       "    .dataframe tbody tr th:only-of-type {\n",
       "        vertical-align: middle;\n",
       "    }\n",
       "\n",
       "    .dataframe tbody tr th {\n",
       "        vertical-align: top;\n",
       "    }\n",
       "\n",
       "    .dataframe thead th {\n",
       "        text-align: right;\n",
       "    }\n",
       "</style>\n",
       "<table border=\"1\" class=\"dataframe\">\n",
       "  <thead>\n",
       "    <tr style=\"text-align: right;\">\n",
       "      <th></th>\n",
       "      <th>claim_id</th>\n",
       "      <th>customer_id</th>\n",
       "      <th>incident_cause</th>\n",
       "      <th>claim_date</th>\n",
       "      <th>claim_area</th>\n",
       "      <th>police_report</th>\n",
       "      <th>claim_type</th>\n",
       "      <th>claim_amount</th>\n",
       "      <th>total_policy_claims</th>\n",
       "      <th>fraudulent</th>\n",
       "      <th>CUST_ID</th>\n",
       "      <th>gender</th>\n",
       "      <th>DateOfBirth</th>\n",
       "      <th>State</th>\n",
       "      <th>Contact</th>\n",
       "      <th>Segment</th>\n",
       "      <th>alert_flag</th>\n",
       "      <th>age</th>\n",
       "    </tr>\n",
       "  </thead>\n",
       "  <tbody>\n",
       "    <tr>\n",
       "      <th>0</th>\n",
       "      <td>54004764</td>\n",
       "      <td>21868593</td>\n",
       "      <td>Driver error</td>\n",
       "      <td>2017-11-27</td>\n",
       "      <td>Auto</td>\n",
       "      <td>No</td>\n",
       "      <td>Material only</td>\n",
       "      <td>2980.0</td>\n",
       "      <td>1.0</td>\n",
       "      <td>No</td>\n",
       "      <td>21868593</td>\n",
       "      <td>Female</td>\n",
       "      <td>1979-01-12</td>\n",
       "      <td>VT</td>\n",
       "      <td>789-916-8172</td>\n",
       "      <td>Platinum</td>\n",
       "      <td>0</td>\n",
       "      <td>38</td>\n",
       "    </tr>\n",
       "    <tr>\n",
       "      <th>1</th>\n",
       "      <td>33985796</td>\n",
       "      <td>75740424</td>\n",
       "      <td>Crime</td>\n",
       "      <td>2018-10-03</td>\n",
       "      <td>Home</td>\n",
       "      <td>Unknown</td>\n",
       "      <td>Material only</td>\n",
       "      <td>2980.0</td>\n",
       "      <td>3.0</td>\n",
       "      <td>No</td>\n",
       "      <td>75740424</td>\n",
       "      <td>Female</td>\n",
       "      <td>1970-01-13</td>\n",
       "      <td>ME</td>\n",
       "      <td>265-543-1264</td>\n",
       "      <td>Silver</td>\n",
       "      <td>0</td>\n",
       "      <td>48</td>\n",
       "    </tr>\n",
       "    <tr>\n",
       "      <th>2</th>\n",
       "      <td>53522022</td>\n",
       "      <td>30308357</td>\n",
       "      <td>Other driver error</td>\n",
       "      <td>2018-02-02</td>\n",
       "      <td>Auto</td>\n",
       "      <td>No</td>\n",
       "      <td>Material only</td>\n",
       "      <td>3369.5</td>\n",
       "      <td>1.0</td>\n",
       "      <td>Yes</td>\n",
       "      <td>30308357</td>\n",
       "      <td>Female</td>\n",
       "      <td>1984-03-11</td>\n",
       "      <td>TN</td>\n",
       "      <td>798-631-4758</td>\n",
       "      <td>Silver</td>\n",
       "      <td>0</td>\n",
       "      <td>34</td>\n",
       "    </tr>\n",
       "    <tr>\n",
       "      <th>3</th>\n",
       "      <td>13015401</td>\n",
       "      <td>47830476</td>\n",
       "      <td>Natural causes</td>\n",
       "      <td>2018-06-17</td>\n",
       "      <td>Auto</td>\n",
       "      <td>No</td>\n",
       "      <td>Material only</td>\n",
       "      <td>1680.0</td>\n",
       "      <td>1.0</td>\n",
       "      <td>No</td>\n",
       "      <td>47830476</td>\n",
       "      <td>Female</td>\n",
       "      <td>1986-05-01</td>\n",
       "      <td>MA</td>\n",
       "      <td>413-187-7945</td>\n",
       "      <td>Silver</td>\n",
       "      <td>0</td>\n",
       "      <td>32</td>\n",
       "    </tr>\n",
       "    <tr>\n",
       "      <th>4</th>\n",
       "      <td>22890252</td>\n",
       "      <td>19269962</td>\n",
       "      <td>Crime</td>\n",
       "      <td>2018-01-13</td>\n",
       "      <td>Auto</td>\n",
       "      <td>No</td>\n",
       "      <td>Material only</td>\n",
       "      <td>2680.0</td>\n",
       "      <td>1.0</td>\n",
       "      <td>No</td>\n",
       "      <td>19269962</td>\n",
       "      <td>Male</td>\n",
       "      <td>1977-05-13</td>\n",
       "      <td>NV</td>\n",
       "      <td>956-871-8691</td>\n",
       "      <td>Gold</td>\n",
       "      <td>0</td>\n",
       "      <td>41</td>\n",
       "    </tr>\n",
       "  </tbody>\n",
       "</table>\n",
       "</div>"
      ],
      "text/plain": [
       "   claim_id  customer_id      incident_cause claim_date claim_area  \\\n",
       "0  54004764     21868593        Driver error 2017-11-27       Auto   \n",
       "1  33985796     75740424               Crime 2018-10-03       Home   \n",
       "2  53522022     30308357  Other driver error 2018-02-02       Auto   \n",
       "3  13015401     47830476      Natural causes 2018-06-17       Auto   \n",
       "4  22890252     19269962               Crime 2018-01-13       Auto   \n",
       "\n",
       "  police_report     claim_type  claim_amount  total_policy_claims fraudulent  \\\n",
       "0            No  Material only        2980.0                  1.0         No   \n",
       "1       Unknown  Material only        2980.0                  3.0         No   \n",
       "2            No  Material only        3369.5                  1.0        Yes   \n",
       "3            No  Material only        1680.0                  1.0         No   \n",
       "4            No  Material only        2680.0                  1.0         No   \n",
       "\n",
       "    CUST_ID  gender DateOfBirth State       Contact   Segment  alert_flag  age  \n",
       "0  21868593  Female  1979-01-12    VT  789-916-8172  Platinum           0   38  \n",
       "1  75740424  Female  1970-01-13    ME  265-543-1264    Silver           0   48  \n",
       "2  30308357  Female  1984-03-11    TN  798-631-4758    Silver           0   34  \n",
       "3  47830476  Female  1986-05-01    MA  413-187-7945    Silver           0   32  \n",
       "4  19269962    Male  1977-05-13    NV  956-871-8691      Gold           0   41  "
      ]
     },
     "execution_count": 37,
     "metadata": {},
     "output_type": "execute_result"
    }
   ],
   "source": [
    "final.head()"
   ]
  },
  {
   "cell_type": "code",
   "execution_count": 38,
   "id": "d20dedb5-2625-4b17-970c-43bccbc6efec",
   "metadata": {},
   "outputs": [],
   "source": [
    "final['category'] = final['age'].apply(\n",
    "    lambda x: 'Children' if x < 18 else ('Youth' if x <= 30 else ('Adult' if x <= 60 else 'Senior')))"
   ]
  },
  {
   "cell_type": "code",
   "execution_count": 39,
   "id": "964c9000-e0f3-4bfd-a0f0-84d674f088aa",
   "metadata": {
    "scrolled": true
   },
   "outputs": [
    {
     "data": {
      "text/html": [
       "<div>\n",
       "<style scoped>\n",
       "    .dataframe tbody tr th:only-of-type {\n",
       "        vertical-align: middle;\n",
       "    }\n",
       "\n",
       "    .dataframe tbody tr th {\n",
       "        vertical-align: top;\n",
       "    }\n",
       "\n",
       "    .dataframe thead th {\n",
       "        text-align: right;\n",
       "    }\n",
       "</style>\n",
       "<table border=\"1\" class=\"dataframe\">\n",
       "  <thead>\n",
       "    <tr style=\"text-align: right;\">\n",
       "      <th></th>\n",
       "      <th>claim_id</th>\n",
       "      <th>customer_id</th>\n",
       "      <th>incident_cause</th>\n",
       "      <th>claim_date</th>\n",
       "      <th>claim_area</th>\n",
       "      <th>police_report</th>\n",
       "      <th>claim_type</th>\n",
       "      <th>claim_amount</th>\n",
       "      <th>total_policy_claims</th>\n",
       "      <th>fraudulent</th>\n",
       "      <th>CUST_ID</th>\n",
       "      <th>gender</th>\n",
       "      <th>DateOfBirth</th>\n",
       "      <th>State</th>\n",
       "      <th>Contact</th>\n",
       "      <th>Segment</th>\n",
       "      <th>alert_flag</th>\n",
       "      <th>age</th>\n",
       "      <th>category</th>\n",
       "    </tr>\n",
       "  </thead>\n",
       "  <tbody>\n",
       "    <tr>\n",
       "      <th>0</th>\n",
       "      <td>54004764</td>\n",
       "      <td>21868593</td>\n",
       "      <td>Driver error</td>\n",
       "      <td>2017-11-27</td>\n",
       "      <td>Auto</td>\n",
       "      <td>No</td>\n",
       "      <td>Material only</td>\n",
       "      <td>2980.0</td>\n",
       "      <td>1.0</td>\n",
       "      <td>No</td>\n",
       "      <td>21868593</td>\n",
       "      <td>Female</td>\n",
       "      <td>1979-01-12</td>\n",
       "      <td>VT</td>\n",
       "      <td>789-916-8172</td>\n",
       "      <td>Platinum</td>\n",
       "      <td>0</td>\n",
       "      <td>38</td>\n",
       "      <td>Adult</td>\n",
       "    </tr>\n",
       "    <tr>\n",
       "      <th>1</th>\n",
       "      <td>33985796</td>\n",
       "      <td>75740424</td>\n",
       "      <td>Crime</td>\n",
       "      <td>2018-10-03</td>\n",
       "      <td>Home</td>\n",
       "      <td>Unknown</td>\n",
       "      <td>Material only</td>\n",
       "      <td>2980.0</td>\n",
       "      <td>3.0</td>\n",
       "      <td>No</td>\n",
       "      <td>75740424</td>\n",
       "      <td>Female</td>\n",
       "      <td>1970-01-13</td>\n",
       "      <td>ME</td>\n",
       "      <td>265-543-1264</td>\n",
       "      <td>Silver</td>\n",
       "      <td>0</td>\n",
       "      <td>48</td>\n",
       "      <td>Adult</td>\n",
       "    </tr>\n",
       "    <tr>\n",
       "      <th>2</th>\n",
       "      <td>53522022</td>\n",
       "      <td>30308357</td>\n",
       "      <td>Other driver error</td>\n",
       "      <td>2018-02-02</td>\n",
       "      <td>Auto</td>\n",
       "      <td>No</td>\n",
       "      <td>Material only</td>\n",
       "      <td>3369.5</td>\n",
       "      <td>1.0</td>\n",
       "      <td>Yes</td>\n",
       "      <td>30308357</td>\n",
       "      <td>Female</td>\n",
       "      <td>1984-03-11</td>\n",
       "      <td>TN</td>\n",
       "      <td>798-631-4758</td>\n",
       "      <td>Silver</td>\n",
       "      <td>0</td>\n",
       "      <td>34</td>\n",
       "      <td>Adult</td>\n",
       "    </tr>\n",
       "    <tr>\n",
       "      <th>3</th>\n",
       "      <td>13015401</td>\n",
       "      <td>47830476</td>\n",
       "      <td>Natural causes</td>\n",
       "      <td>2018-06-17</td>\n",
       "      <td>Auto</td>\n",
       "      <td>No</td>\n",
       "      <td>Material only</td>\n",
       "      <td>1680.0</td>\n",
       "      <td>1.0</td>\n",
       "      <td>No</td>\n",
       "      <td>47830476</td>\n",
       "      <td>Female</td>\n",
       "      <td>1986-05-01</td>\n",
       "      <td>MA</td>\n",
       "      <td>413-187-7945</td>\n",
       "      <td>Silver</td>\n",
       "      <td>0</td>\n",
       "      <td>32</td>\n",
       "      <td>Adult</td>\n",
       "    </tr>\n",
       "    <tr>\n",
       "      <th>4</th>\n",
       "      <td>22890252</td>\n",
       "      <td>19269962</td>\n",
       "      <td>Crime</td>\n",
       "      <td>2018-01-13</td>\n",
       "      <td>Auto</td>\n",
       "      <td>No</td>\n",
       "      <td>Material only</td>\n",
       "      <td>2680.0</td>\n",
       "      <td>1.0</td>\n",
       "      <td>No</td>\n",
       "      <td>19269962</td>\n",
       "      <td>Male</td>\n",
       "      <td>1977-05-13</td>\n",
       "      <td>NV</td>\n",
       "      <td>956-871-8691</td>\n",
       "      <td>Gold</td>\n",
       "      <td>0</td>\n",
       "      <td>41</td>\n",
       "      <td>Adult</td>\n",
       "    </tr>\n",
       "  </tbody>\n",
       "</table>\n",
       "</div>"
      ],
      "text/plain": [
       "   claim_id  customer_id      incident_cause claim_date claim_area  \\\n",
       "0  54004764     21868593        Driver error 2017-11-27       Auto   \n",
       "1  33985796     75740424               Crime 2018-10-03       Home   \n",
       "2  53522022     30308357  Other driver error 2018-02-02       Auto   \n",
       "3  13015401     47830476      Natural causes 2018-06-17       Auto   \n",
       "4  22890252     19269962               Crime 2018-01-13       Auto   \n",
       "\n",
       "  police_report     claim_type  claim_amount  total_policy_claims fraudulent  \\\n",
       "0            No  Material only        2980.0                  1.0         No   \n",
       "1       Unknown  Material only        2980.0                  3.0         No   \n",
       "2            No  Material only        3369.5                  1.0        Yes   \n",
       "3            No  Material only        1680.0                  1.0         No   \n",
       "4            No  Material only        2680.0                  1.0         No   \n",
       "\n",
       "    CUST_ID  gender DateOfBirth State       Contact   Segment  alert_flag  \\\n",
       "0  21868593  Female  1979-01-12    VT  789-916-8172  Platinum           0   \n",
       "1  75740424  Female  1970-01-13    ME  265-543-1264    Silver           0   \n",
       "2  30308357  Female  1984-03-11    TN  798-631-4758    Silver           0   \n",
       "3  47830476  Female  1986-05-01    MA  413-187-7945    Silver           0   \n",
       "4  19269962    Male  1977-05-13    NV  956-871-8691      Gold           0   \n",
       "\n",
       "   age category  \n",
       "0   38    Adult  \n",
       "1   48    Adult  \n",
       "2   34    Adult  \n",
       "3   32    Adult  \n",
       "4   41    Adult  "
      ]
     },
     "execution_count": 39,
     "metadata": {},
     "output_type": "execute_result"
    }
   ],
   "source": [
    "final.head()"
   ]
  },
  {
   "cell_type": "markdown",
   "id": "8de29119-67fc-4815-adda-1dcc20b8f181",
   "metadata": {},
   "source": [
    "8. What is the average amount claimed by the customers from various \n",
    "segments?"
   ]
  },
  {
   "cell_type": "code",
   "execution_count": 41,
   "id": "71970c37-8d0b-40e7-8341-73373b40fc6c",
   "metadata": {
    "scrolled": true
   },
   "outputs": [
    {
     "data": {
      "text/html": [
       "<div>\n",
       "<style scoped>\n",
       "    .dataframe tbody tr th:only-of-type {\n",
       "        vertical-align: middle;\n",
       "    }\n",
       "\n",
       "    .dataframe tbody tr th {\n",
       "        vertical-align: top;\n",
       "    }\n",
       "\n",
       "    .dataframe thead th {\n",
       "        text-align: right;\n",
       "    }\n",
       "</style>\n",
       "<table border=\"1\" class=\"dataframe\">\n",
       "  <thead>\n",
       "    <tr style=\"text-align: right;\">\n",
       "      <th></th>\n",
       "      <th>Segment</th>\n",
       "      <th>claim_amount</th>\n",
       "    </tr>\n",
       "  </thead>\n",
       "  <tbody>\n",
       "    <tr>\n",
       "      <th>0</th>\n",
       "      <td>Gold</td>\n",
       "      <td>12756.450135</td>\n",
       "    </tr>\n",
       "    <tr>\n",
       "      <th>1</th>\n",
       "      <td>Platinum</td>\n",
       "      <td>12369.283934</td>\n",
       "    </tr>\n",
       "    <tr>\n",
       "      <th>2</th>\n",
       "      <td>Silver</td>\n",
       "      <td>12269.394509</td>\n",
       "    </tr>\n",
       "  </tbody>\n",
       "</table>\n",
       "</div>"
      ],
      "text/plain": [
       "    Segment  claim_amount\n",
       "0      Gold  12756.450135\n",
       "1  Platinum  12369.283934\n",
       "2    Silver  12269.394509"
      ]
     },
     "execution_count": 41,
     "metadata": {},
     "output_type": "execute_result"
    }
   ],
   "source": [
    "final.groupby(by = 'Segment')['claim_amount'].mean().reset_index()"
   ]
  },
  {
   "cell_type": "code",
   "execution_count": 42,
   "id": "994b224d-735d-49f9-a294-f1a73b4fbec8",
   "metadata": {
    "scrolled": true
   },
   "outputs": [
    {
     "data": {
      "text/html": [
       "<div>\n",
       "<style scoped>\n",
       "    .dataframe tbody tr th:only-of-type {\n",
       "        vertical-align: middle;\n",
       "    }\n",
       "\n",
       "    .dataframe tbody tr th {\n",
       "        vertical-align: top;\n",
       "    }\n",
       "\n",
       "    .dataframe thead th {\n",
       "        text-align: right;\n",
       "    }\n",
       "</style>\n",
       "<table border=\"1\" class=\"dataframe\">\n",
       "  <thead>\n",
       "    <tr style=\"text-align: right;\">\n",
       "      <th></th>\n",
       "      <th>Segment</th>\n",
       "      <th>Average_Claim_Amount</th>\n",
       "    </tr>\n",
       "  </thead>\n",
       "  <tbody>\n",
       "    <tr>\n",
       "      <th>0</th>\n",
       "      <td>Gold</td>\n",
       "      <td>12756.450135</td>\n",
       "    </tr>\n",
       "    <tr>\n",
       "      <th>1</th>\n",
       "      <td>Platinum</td>\n",
       "      <td>12369.283934</td>\n",
       "    </tr>\n",
       "    <tr>\n",
       "      <th>2</th>\n",
       "      <td>Silver</td>\n",
       "      <td>12269.394509</td>\n",
       "    </tr>\n",
       "  </tbody>\n",
       "</table>\n",
       "</div>"
      ],
      "text/plain": [
       "    Segment  Average_Claim_Amount\n",
       "0      Gold          12756.450135\n",
       "1  Platinum          12369.283934\n",
       "2    Silver          12269.394509"
      ]
     },
     "execution_count": 42,
     "metadata": {},
     "output_type": "execute_result"
    }
   ],
   "source": [
    "final.groupby(by = 'Segment').agg(Average_Claim_Amount = ( 'claim_amount', 'mean')).reset_index()"
   ]
  },
  {
   "cell_type": "markdown",
   "id": "4a798ebf-b0ee-473f-baa3-2066296dad6b",
   "metadata": {},
   "source": [
    " 9. What is the total claim amount based on incident cause for all the claims\n",
    " that have been done at least 20 days prior to 1st of October, 2018."
   ]
  },
  {
   "cell_type": "code",
   "execution_count": 44,
   "id": "785528ba-1d8b-4092-bc96-7ff85b80e9c6",
   "metadata": {},
   "outputs": [
    {
     "name": "stdout",
     "output_type": "stream",
     "text": [
      "2018-09-11\n",
      "2018-10-01\n"
     ]
    }
   ],
   "source": [
    "start_date = (pd.to_datetime(\"2018-10-01\") - pd.DateOffset(days=20)).date()\n",
    "end_date = (pd.to_datetime(\"2018-10-01\")).date()\n",
    "print(start_date)\n",
    "print(end_date)"
   ]
  },
  {
   "cell_type": "code",
   "execution_count": 45,
   "id": "f931483d-5c5c-4dba-abbf-74668894191a",
   "metadata": {},
   "outputs": [
    {
     "data": {
      "text/html": [
       "<div>\n",
       "<style scoped>\n",
       "    .dataframe tbody tr th:only-of-type {\n",
       "        vertical-align: middle;\n",
       "    }\n",
       "\n",
       "    .dataframe tbody tr th {\n",
       "        vertical-align: top;\n",
       "    }\n",
       "\n",
       "    .dataframe thead th {\n",
       "        text-align: right;\n",
       "    }\n",
       "</style>\n",
       "<table border=\"1\" class=\"dataframe\">\n",
       "  <thead>\n",
       "    <tr style=\"text-align: right;\">\n",
       "      <th></th>\n",
       "      <th>incident_cause</th>\n",
       "      <th>claim_amount</th>\n",
       "    </tr>\n",
       "  </thead>\n",
       "  <tbody>\n",
       "    <tr>\n",
       "      <th>0</th>\n",
       "      <td>Crime</td>\n",
       "      <td>6840.0</td>\n",
       "    </tr>\n",
       "    <tr>\n",
       "      <th>1</th>\n",
       "      <td>Driver error</td>\n",
       "      <td>14600.0</td>\n",
       "    </tr>\n",
       "    <tr>\n",
       "      <th>2</th>\n",
       "      <td>Natural causes</td>\n",
       "      <td>8418.0</td>\n",
       "    </tr>\n",
       "    <tr>\n",
       "      <th>3</th>\n",
       "      <td>Other causes</td>\n",
       "      <td>244986.0</td>\n",
       "    </tr>\n",
       "    <tr>\n",
       "      <th>4</th>\n",
       "      <td>Other driver error</td>\n",
       "      <td>47599.5</td>\n",
       "    </tr>\n",
       "  </tbody>\n",
       "</table>\n",
       "</div>"
      ],
      "text/plain": [
       "       incident_cause  claim_amount\n",
       "0               Crime        6840.0\n",
       "1        Driver error       14600.0\n",
       "2      Natural causes        8418.0\n",
       "3        Other causes      244986.0\n",
       "4  Other driver error       47599.5"
      ]
     },
     "execution_count": 45,
     "metadata": {},
     "output_type": "execute_result"
    }
   ],
   "source": [
    "final[(final['claim_date'] >= '2018-09-11') & (final['claim_date'] <= '2018-10-01')].groupby(\n",
    "    by = 'incident_cause')['claim_amount'].sum().reset_index() "
   ]
  },
  {
   "cell_type": "code",
   "execution_count": 46,
   "id": "fcdad496-65e5-42c8-a5e6-f5cfe75c99e5",
   "metadata": {
    "scrolled": true
   },
   "outputs": [
    {
     "data": {
      "text/html": [
       "<div>\n",
       "<style scoped>\n",
       "    .dataframe tbody tr th:only-of-type {\n",
       "        vertical-align: middle;\n",
       "    }\n",
       "\n",
       "    .dataframe tbody tr th {\n",
       "        vertical-align: top;\n",
       "    }\n",
       "\n",
       "    .dataframe thead th {\n",
       "        text-align: right;\n",
       "    }\n",
       "</style>\n",
       "<table border=\"1\" class=\"dataframe\">\n",
       "  <thead>\n",
       "    <tr style=\"text-align: right;\">\n",
       "      <th></th>\n",
       "      <th>incident_cause</th>\n",
       "      <th>claim_amount</th>\n",
       "    </tr>\n",
       "  </thead>\n",
       "  <tbody>\n",
       "    <tr>\n",
       "      <th>0</th>\n",
       "      <td>Crime</td>\n",
       "      <td>738560.0</td>\n",
       "    </tr>\n",
       "    <tr>\n",
       "      <th>1</th>\n",
       "      <td>Driver error</td>\n",
       "      <td>3408510.0</td>\n",
       "    </tr>\n",
       "    <tr>\n",
       "      <th>2</th>\n",
       "      <td>Natural causes</td>\n",
       "      <td>1367576.0</td>\n",
       "    </tr>\n",
       "    <tr>\n",
       "      <th>3</th>\n",
       "      <td>Other causes</td>\n",
       "      <td>4133357.5</td>\n",
       "    </tr>\n",
       "    <tr>\n",
       "      <th>4</th>\n",
       "      <td>Other driver error</td>\n",
       "      <td>3527344.0</td>\n",
       "    </tr>\n",
       "  </tbody>\n",
       "</table>\n",
       "</div>"
      ],
      "text/plain": [
       "       incident_cause  claim_amount\n",
       "0               Crime      738560.0\n",
       "1        Driver error     3408510.0\n",
       "2      Natural causes     1367576.0\n",
       "3        Other causes     4133357.5\n",
       "4  Other driver error     3527344.0"
      ]
     },
     "execution_count": 46,
     "metadata": {},
     "output_type": "execute_result"
    }
   ],
   "source": [
    "final.loc[final['claim_date'] < '2018-10-20',:].groupby(by = 'incident_cause')['claim_amount'].sum().reset_index()"
   ]
  },
  {
   "cell_type": "code",
   "execution_count": 47,
   "id": "49a70ac3-44c4-4a7c-80d0-53283962882d",
   "metadata": {
    "scrolled": true
   },
   "outputs": [
    {
     "data": {
      "text/html": [
       "<div>\n",
       "<style scoped>\n",
       "    .dataframe tbody tr th:only-of-type {\n",
       "        vertical-align: middle;\n",
       "    }\n",
       "\n",
       "    .dataframe tbody tr th {\n",
       "        vertical-align: top;\n",
       "    }\n",
       "\n",
       "    .dataframe thead th {\n",
       "        text-align: right;\n",
       "    }\n",
       "</style>\n",
       "<table border=\"1\" class=\"dataframe\">\n",
       "  <thead>\n",
       "    <tr style=\"text-align: right;\">\n",
       "      <th></th>\n",
       "      <th>claim_id</th>\n",
       "      <th>customer_id</th>\n",
       "      <th>incident_cause</th>\n",
       "      <th>claim_date</th>\n",
       "      <th>claim_area</th>\n",
       "      <th>police_report</th>\n",
       "      <th>claim_type</th>\n",
       "      <th>claim_amount</th>\n",
       "      <th>total_policy_claims</th>\n",
       "      <th>fraudulent</th>\n",
       "      <th>CUST_ID</th>\n",
       "      <th>gender</th>\n",
       "      <th>DateOfBirth</th>\n",
       "      <th>State</th>\n",
       "      <th>Contact</th>\n",
       "      <th>Segment</th>\n",
       "      <th>alert_flag</th>\n",
       "      <th>age</th>\n",
       "      <th>category</th>\n",
       "    </tr>\n",
       "  </thead>\n",
       "  <tbody>\n",
       "    <tr>\n",
       "      <th>0</th>\n",
       "      <td>54004764</td>\n",
       "      <td>21868593</td>\n",
       "      <td>Driver error</td>\n",
       "      <td>2017-11-27</td>\n",
       "      <td>Auto</td>\n",
       "      <td>No</td>\n",
       "      <td>Material only</td>\n",
       "      <td>2980.0</td>\n",
       "      <td>1.0</td>\n",
       "      <td>No</td>\n",
       "      <td>21868593</td>\n",
       "      <td>Female</td>\n",
       "      <td>1979-01-12</td>\n",
       "      <td>VT</td>\n",
       "      <td>789-916-8172</td>\n",
       "      <td>Platinum</td>\n",
       "      <td>0</td>\n",
       "      <td>38</td>\n",
       "      <td>Adult</td>\n",
       "    </tr>\n",
       "    <tr>\n",
       "      <th>1</th>\n",
       "      <td>33985796</td>\n",
       "      <td>75740424</td>\n",
       "      <td>Crime</td>\n",
       "      <td>2018-10-03</td>\n",
       "      <td>Home</td>\n",
       "      <td>Unknown</td>\n",
       "      <td>Material only</td>\n",
       "      <td>2980.0</td>\n",
       "      <td>3.0</td>\n",
       "      <td>No</td>\n",
       "      <td>75740424</td>\n",
       "      <td>Female</td>\n",
       "      <td>1970-01-13</td>\n",
       "      <td>ME</td>\n",
       "      <td>265-543-1264</td>\n",
       "      <td>Silver</td>\n",
       "      <td>0</td>\n",
       "      <td>48</td>\n",
       "      <td>Adult</td>\n",
       "    </tr>\n",
       "    <tr>\n",
       "      <th>2</th>\n",
       "      <td>53522022</td>\n",
       "      <td>30308357</td>\n",
       "      <td>Other driver error</td>\n",
       "      <td>2018-02-02</td>\n",
       "      <td>Auto</td>\n",
       "      <td>No</td>\n",
       "      <td>Material only</td>\n",
       "      <td>3369.5</td>\n",
       "      <td>1.0</td>\n",
       "      <td>Yes</td>\n",
       "      <td>30308357</td>\n",
       "      <td>Female</td>\n",
       "      <td>1984-03-11</td>\n",
       "      <td>TN</td>\n",
       "      <td>798-631-4758</td>\n",
       "      <td>Silver</td>\n",
       "      <td>0</td>\n",
       "      <td>34</td>\n",
       "      <td>Adult</td>\n",
       "    </tr>\n",
       "    <tr>\n",
       "      <th>3</th>\n",
       "      <td>13015401</td>\n",
       "      <td>47830476</td>\n",
       "      <td>Natural causes</td>\n",
       "      <td>2018-06-17</td>\n",
       "      <td>Auto</td>\n",
       "      <td>No</td>\n",
       "      <td>Material only</td>\n",
       "      <td>1680.0</td>\n",
       "      <td>1.0</td>\n",
       "      <td>No</td>\n",
       "      <td>47830476</td>\n",
       "      <td>Female</td>\n",
       "      <td>1986-05-01</td>\n",
       "      <td>MA</td>\n",
       "      <td>413-187-7945</td>\n",
       "      <td>Silver</td>\n",
       "      <td>0</td>\n",
       "      <td>32</td>\n",
       "      <td>Adult</td>\n",
       "    </tr>\n",
       "    <tr>\n",
       "      <th>4</th>\n",
       "      <td>22890252</td>\n",
       "      <td>19269962</td>\n",
       "      <td>Crime</td>\n",
       "      <td>2018-01-13</td>\n",
       "      <td>Auto</td>\n",
       "      <td>No</td>\n",
       "      <td>Material only</td>\n",
       "      <td>2680.0</td>\n",
       "      <td>1.0</td>\n",
       "      <td>No</td>\n",
       "      <td>19269962</td>\n",
       "      <td>Male</td>\n",
       "      <td>1977-05-13</td>\n",
       "      <td>NV</td>\n",
       "      <td>956-871-8691</td>\n",
       "      <td>Gold</td>\n",
       "      <td>0</td>\n",
       "      <td>41</td>\n",
       "      <td>Adult</td>\n",
       "    </tr>\n",
       "  </tbody>\n",
       "</table>\n",
       "</div>"
      ],
      "text/plain": [
       "   claim_id  customer_id      incident_cause claim_date claim_area  \\\n",
       "0  54004764     21868593        Driver error 2017-11-27       Auto   \n",
       "1  33985796     75740424               Crime 2018-10-03       Home   \n",
       "2  53522022     30308357  Other driver error 2018-02-02       Auto   \n",
       "3  13015401     47830476      Natural causes 2018-06-17       Auto   \n",
       "4  22890252     19269962               Crime 2018-01-13       Auto   \n",
       "\n",
       "  police_report     claim_type  claim_amount  total_policy_claims fraudulent  \\\n",
       "0            No  Material only        2980.0                  1.0         No   \n",
       "1       Unknown  Material only        2980.0                  3.0         No   \n",
       "2            No  Material only        3369.5                  1.0        Yes   \n",
       "3            No  Material only        1680.0                  1.0         No   \n",
       "4            No  Material only        2680.0                  1.0         No   \n",
       "\n",
       "    CUST_ID  gender DateOfBirth State       Contact   Segment  alert_flag  \\\n",
       "0  21868593  Female  1979-01-12    VT  789-916-8172  Platinum           0   \n",
       "1  75740424  Female  1970-01-13    ME  265-543-1264    Silver           0   \n",
       "2  30308357  Female  1984-03-11    TN  798-631-4758    Silver           0   \n",
       "3  47830476  Female  1986-05-01    MA  413-187-7945    Silver           0   \n",
       "4  19269962    Male  1977-05-13    NV  956-871-8691      Gold           0   \n",
       "\n",
       "   age category  \n",
       "0   38    Adult  \n",
       "1   48    Adult  \n",
       "2   34    Adult  \n",
       "3   32    Adult  \n",
       "4   41    Adult  "
      ]
     },
     "execution_count": 47,
     "metadata": {},
     "output_type": "execute_result"
    }
   ],
   "source": [
    "final.head()"
   ]
  },
  {
   "cell_type": "markdown",
   "id": "8c8e8855-9966-4df8-9f42-78958362e1f7",
   "metadata": {},
   "source": [
    "10. How many adults from TX, DE and AK claimed insurance for driver \n",
    "related issues and causes? "
   ]
  },
  {
   "cell_type": "code",
   "execution_count": 49,
   "id": "f42f55b3-3382-4504-9b28-b852f913c87b",
   "metadata": {
    "scrolled": true
   },
   "outputs": [
    {
     "data": {
      "text/html": [
       "<div>\n",
       "<style scoped>\n",
       "    .dataframe tbody tr th:only-of-type {\n",
       "        vertical-align: middle;\n",
       "    }\n",
       "\n",
       "    .dataframe tbody tr th {\n",
       "        vertical-align: top;\n",
       "    }\n",
       "\n",
       "    .dataframe thead th {\n",
       "        text-align: right;\n",
       "    }\n",
       "</style>\n",
       "<table border=\"1\" class=\"dataframe\">\n",
       "  <thead>\n",
       "    <tr style=\"text-align: right;\">\n",
       "      <th></th>\n",
       "      <th>claim_id</th>\n",
       "      <th>customer_id</th>\n",
       "      <th>incident_cause</th>\n",
       "      <th>claim_date</th>\n",
       "      <th>claim_area</th>\n",
       "      <th>police_report</th>\n",
       "      <th>claim_type</th>\n",
       "      <th>claim_amount</th>\n",
       "      <th>total_policy_claims</th>\n",
       "      <th>fraudulent</th>\n",
       "      <th>CUST_ID</th>\n",
       "      <th>gender</th>\n",
       "      <th>DateOfBirth</th>\n",
       "      <th>State</th>\n",
       "      <th>Contact</th>\n",
       "      <th>Segment</th>\n",
       "      <th>alert_flag</th>\n",
       "      <th>age</th>\n",
       "      <th>category</th>\n",
       "    </tr>\n",
       "  </thead>\n",
       "  <tbody>\n",
       "    <tr>\n",
       "      <th>0</th>\n",
       "      <td>54004764</td>\n",
       "      <td>21868593</td>\n",
       "      <td>Driver error</td>\n",
       "      <td>2017-11-27</td>\n",
       "      <td>Auto</td>\n",
       "      <td>No</td>\n",
       "      <td>Material only</td>\n",
       "      <td>2980.0</td>\n",
       "      <td>1.0</td>\n",
       "      <td>No</td>\n",
       "      <td>21868593</td>\n",
       "      <td>Female</td>\n",
       "      <td>1979-01-12</td>\n",
       "      <td>VT</td>\n",
       "      <td>789-916-8172</td>\n",
       "      <td>Platinum</td>\n",
       "      <td>0</td>\n",
       "      <td>38</td>\n",
       "      <td>Adult</td>\n",
       "    </tr>\n",
       "    <tr>\n",
       "      <th>6</th>\n",
       "      <td>12878692</td>\n",
       "      <td>18401412</td>\n",
       "      <td>Driver error</td>\n",
       "      <td>2018-01-13</td>\n",
       "      <td>Auto</td>\n",
       "      <td>No</td>\n",
       "      <td>Material only</td>\n",
       "      <td>1730.0</td>\n",
       "      <td>4.0</td>\n",
       "      <td>No</td>\n",
       "      <td>18401412</td>\n",
       "      <td>Male</td>\n",
       "      <td>1999-03-02</td>\n",
       "      <td>AR</td>\n",
       "      <td>752-398-2914</td>\n",
       "      <td>Gold</td>\n",
       "      <td>0</td>\n",
       "      <td>19</td>\n",
       "      <td>Youth</td>\n",
       "    </tr>\n",
       "    <tr>\n",
       "      <th>16</th>\n",
       "      <td>12548447</td>\n",
       "      <td>1407979</td>\n",
       "      <td>Driver error</td>\n",
       "      <td>2018-06-03</td>\n",
       "      <td>Auto</td>\n",
       "      <td>Unknown</td>\n",
       "      <td>Material only</td>\n",
       "      <td>3208.5</td>\n",
       "      <td>1.0</td>\n",
       "      <td>Yes</td>\n",
       "      <td>1407979</td>\n",
       "      <td>Male</td>\n",
       "      <td>1987-03-15</td>\n",
       "      <td>RI</td>\n",
       "      <td>165-217-1648</td>\n",
       "      <td>Silver</td>\n",
       "      <td>0</td>\n",
       "      <td>31</td>\n",
       "      <td>Adult</td>\n",
       "    </tr>\n",
       "    <tr>\n",
       "      <th>24</th>\n",
       "      <td>8782253</td>\n",
       "      <td>1924109</td>\n",
       "      <td>Driver error</td>\n",
       "      <td>2017-09-14</td>\n",
       "      <td>Auto</td>\n",
       "      <td>No</td>\n",
       "      <td>Material only</td>\n",
       "      <td>1690.0</td>\n",
       "      <td>1.0</td>\n",
       "      <td>No</td>\n",
       "      <td>1924109</td>\n",
       "      <td>Male</td>\n",
       "      <td>1981-12-13</td>\n",
       "      <td>UT</td>\n",
       "      <td>431-179-6475</td>\n",
       "      <td>Gold</td>\n",
       "      <td>0</td>\n",
       "      <td>36</td>\n",
       "      <td>Adult</td>\n",
       "    </tr>\n",
       "    <tr>\n",
       "      <th>26</th>\n",
       "      <td>71088680</td>\n",
       "      <td>32155446</td>\n",
       "      <td>Driver error</td>\n",
       "      <td>2017-12-24</td>\n",
       "      <td>Auto</td>\n",
       "      <td>No</td>\n",
       "      <td>Material and injury</td>\n",
       "      <td>32640.0</td>\n",
       "      <td>4.0</td>\n",
       "      <td>No</td>\n",
       "      <td>32155446</td>\n",
       "      <td>Male</td>\n",
       "      <td>1985-05-07</td>\n",
       "      <td>AZ</td>\n",
       "      <td>847-936-7645</td>\n",
       "      <td>Gold</td>\n",
       "      <td>0</td>\n",
       "      <td>32</td>\n",
       "      <td>Adult</td>\n",
       "    </tr>\n",
       "  </tbody>\n",
       "</table>\n",
       "</div>"
      ],
      "text/plain": [
       "    claim_id  customer_id incident_cause claim_date claim_area police_report  \\\n",
       "0   54004764     21868593   Driver error 2017-11-27       Auto            No   \n",
       "6   12878692     18401412   Driver error 2018-01-13       Auto            No   \n",
       "16  12548447      1407979   Driver error 2018-06-03       Auto       Unknown   \n",
       "24   8782253      1924109   Driver error 2017-09-14       Auto            No   \n",
       "26  71088680     32155446   Driver error 2017-12-24       Auto            No   \n",
       "\n",
       "             claim_type  claim_amount  total_policy_claims fraudulent  \\\n",
       "0         Material only        2980.0                  1.0         No   \n",
       "6         Material only        1730.0                  4.0         No   \n",
       "16        Material only        3208.5                  1.0        Yes   \n",
       "24        Material only        1690.0                  1.0         No   \n",
       "26  Material and injury       32640.0                  4.0         No   \n",
       "\n",
       "     CUST_ID  gender DateOfBirth State       Contact   Segment  alert_flag  \\\n",
       "0   21868593  Female  1979-01-12    VT  789-916-8172  Platinum           0   \n",
       "6   18401412    Male  1999-03-02    AR  752-398-2914      Gold           0   \n",
       "16   1407979    Male  1987-03-15    RI  165-217-1648    Silver           0   \n",
       "24   1924109    Male  1981-12-13    UT  431-179-6475      Gold           0   \n",
       "26  32155446    Male  1985-05-07    AZ  847-936-7645      Gold           0   \n",
       "\n",
       "    age category  \n",
       "0    38    Adult  \n",
       "6    19    Youth  \n",
       "16   31    Adult  \n",
       "24   36    Adult  \n",
       "26   32    Adult  "
      ]
     },
     "execution_count": 49,
     "metadata": {},
     "output_type": "execute_result"
    }
   ],
   "source": [
    "final[final['incident_cause'] == 'Driver error'].head()"
   ]
  },
  {
   "cell_type": "code",
   "execution_count": 50,
   "id": "3c303fe8-cecc-413e-a642-b181f7bb8ac5",
   "metadata": {},
   "outputs": [
    {
     "data": {
      "text/plain": [
       "14"
      ]
     },
     "execution_count": 50,
     "metadata": {},
     "output_type": "execute_result"
    }
   ],
   "source": [
    "final[(final['State'].isin(values=['TX','DE','AK'])) & (final['incident_cause'].isin(\n",
    "    ['Driver error','Natural causes'])) & (final['category'] == 'Adult')].shape[0]"
   ]
  },
  {
   "cell_type": "markdown",
   "id": "3dd2ccc6-1b38-4f21-a8b0-3e9555d4dece",
   "metadata": {},
   "source": [
    "11. Draw a pie chart between the aggregated value of claim amount based \n",
    "on gender and segment. Represent the claim amount as a percentage on\n",
    " the pie chart."
   ]
  },
  {
   "cell_type": "code",
   "execution_count": 52,
   "id": "0999357e-64c8-43c9-9566-8a823f371908",
   "metadata": {},
   "outputs": [
    {
     "name": "stderr",
     "output_type": "stream",
     "text": [
      "C:\\Users\\ANIL KUMAR\\AppData\\Local\\Temp\\ipykernel_24312\\1887252329.py:1: FutureWarning: The provided callable <built-in function sum> is currently using DataFrameGroupBy.sum. In a future version of pandas, the provided callable will be used directly. To keep current behavior pass the string \"sum\" instead.\n",
      "  piechart = final.pivot_table(index= 'Segment', columns='gender', values='claim_amount', aggfunc=sum).reset_index()\n"
     ]
    }
   ],
   "source": [
    "piechart = final.pivot_table(index= 'Segment', columns='gender', values='claim_amount', aggfunc=sum).reset_index()"
   ]
  },
  {
   "cell_type": "code",
   "execution_count": 53,
   "id": "22548bb2-61e7-4d18-81e3-e0ffdc745412",
   "metadata": {},
   "outputs": [
    {
     "data": {
      "text/html": [
       "<div>\n",
       "<style scoped>\n",
       "    .dataframe tbody tr th:only-of-type {\n",
       "        vertical-align: middle;\n",
       "    }\n",
       "\n",
       "    .dataframe tbody tr th {\n",
       "        vertical-align: top;\n",
       "    }\n",
       "\n",
       "    .dataframe thead th {\n",
       "        text-align: right;\n",
       "    }\n",
       "</style>\n",
       "<table border=\"1\" class=\"dataframe\">\n",
       "  <thead>\n",
       "    <tr style=\"text-align: right;\">\n",
       "      <th>gender</th>\n",
       "      <th>Segment</th>\n",
       "      <th>Female</th>\n",
       "      <th>Male</th>\n",
       "    </tr>\n",
       "  </thead>\n",
       "  <tbody>\n",
       "    <tr>\n",
       "      <th>0</th>\n",
       "      <td>Gold</td>\n",
       "      <td>2109759.0</td>\n",
       "      <td>2622884.0</td>\n",
       "    </tr>\n",
       "    <tr>\n",
       "      <th>1</th>\n",
       "      <td>Platinum</td>\n",
       "      <td>2369500.0</td>\n",
       "      <td>2095811.5</td>\n",
       "    </tr>\n",
       "    <tr>\n",
       "      <th>2</th>\n",
       "      <td>Silver</td>\n",
       "      <td>1898552.0</td>\n",
       "      <td>2346658.5</td>\n",
       "    </tr>\n",
       "  </tbody>\n",
       "</table>\n",
       "</div>"
      ],
      "text/plain": [
       "gender   Segment     Female       Male\n",
       "0           Gold  2109759.0  2622884.0\n",
       "1       Platinum  2369500.0  2095811.5\n",
       "2         Silver  1898552.0  2346658.5"
      ]
     },
     "execution_count": 53,
     "metadata": {},
     "output_type": "execute_result"
    }
   ],
   "source": [
    "piechart"
   ]
  },
  {
   "cell_type": "code",
   "execution_count": 54,
   "id": "68db2c40-e1dc-458d-b2f2-ef2dee263f34",
   "metadata": {},
   "outputs": [],
   "source": [
    "piechart.index.name = None"
   ]
  },
  {
   "cell_type": "code",
   "execution_count": 55,
   "id": "cfe93e81-0eb0-49ed-b467-ae4acc939518",
   "metadata": {},
   "outputs": [
    {
     "data": {
      "text/html": [
       "<div>\n",
       "<style scoped>\n",
       "    .dataframe tbody tr th:only-of-type {\n",
       "        vertical-align: middle;\n",
       "    }\n",
       "\n",
       "    .dataframe tbody tr th {\n",
       "        vertical-align: top;\n",
       "    }\n",
       "\n",
       "    .dataframe thead th {\n",
       "        text-align: right;\n",
       "    }\n",
       "</style>\n",
       "<table border=\"1\" class=\"dataframe\">\n",
       "  <thead>\n",
       "    <tr style=\"text-align: right;\">\n",
       "      <th>gender</th>\n",
       "      <th>Segment</th>\n",
       "      <th>Female</th>\n",
       "      <th>Male</th>\n",
       "    </tr>\n",
       "  </thead>\n",
       "  <tbody>\n",
       "    <tr>\n",
       "      <th>0</th>\n",
       "      <td>Gold</td>\n",
       "      <td>2109759.0</td>\n",
       "      <td>2622884.0</td>\n",
       "    </tr>\n",
       "    <tr>\n",
       "      <th>1</th>\n",
       "      <td>Platinum</td>\n",
       "      <td>2369500.0</td>\n",
       "      <td>2095811.5</td>\n",
       "    </tr>\n",
       "    <tr>\n",
       "      <th>2</th>\n",
       "      <td>Silver</td>\n",
       "      <td>1898552.0</td>\n",
       "      <td>2346658.5</td>\n",
       "    </tr>\n",
       "  </tbody>\n",
       "</table>\n",
       "</div>"
      ],
      "text/plain": [
       "gender   Segment     Female       Male\n",
       "0           Gold  2109759.0  2622884.0\n",
       "1       Platinum  2369500.0  2095811.5\n",
       "2         Silver  1898552.0  2346658.5"
      ]
     },
     "execution_count": 55,
     "metadata": {},
     "output_type": "execute_result"
    }
   ],
   "source": [
    "piechart"
   ]
  },
  {
   "cell_type": "code",
   "execution_count": 56,
   "id": "98eeb5c5-3759-4d65-ad7f-27b8756653eb",
   "metadata": {},
   "outputs": [],
   "source": [
    "pi = final.groupby(by=['Segment', 'gender']).agg(Total=('claim_amount', 'sum')).reset_index()"
   ]
  },
  {
   "cell_type": "code",
   "execution_count": 57,
   "id": "cf89774c-5307-4eb9-b2a6-4e5a7c1de68b",
   "metadata": {},
   "outputs": [],
   "source": [
    "pi['Lab'] = pi['Segment']+' '+pi['gender']"
   ]
  },
  {
   "cell_type": "code",
   "execution_count": 58,
   "id": "68177a48-4c81-4bb5-8406-b67dc1bdb091",
   "metadata": {},
   "outputs": [
    {
     "data": {
      "text/html": [
       "<div>\n",
       "<style scoped>\n",
       "    .dataframe tbody tr th:only-of-type {\n",
       "        vertical-align: middle;\n",
       "    }\n",
       "\n",
       "    .dataframe tbody tr th {\n",
       "        vertical-align: top;\n",
       "    }\n",
       "\n",
       "    .dataframe thead th {\n",
       "        text-align: right;\n",
       "    }\n",
       "</style>\n",
       "<table border=\"1\" class=\"dataframe\">\n",
       "  <thead>\n",
       "    <tr style=\"text-align: right;\">\n",
       "      <th></th>\n",
       "      <th>Segment</th>\n",
       "      <th>gender</th>\n",
       "      <th>Total</th>\n",
       "      <th>Lab</th>\n",
       "    </tr>\n",
       "  </thead>\n",
       "  <tbody>\n",
       "    <tr>\n",
       "      <th>0</th>\n",
       "      <td>Gold</td>\n",
       "      <td>Female</td>\n",
       "      <td>2109759.0</td>\n",
       "      <td>Gold Female</td>\n",
       "    </tr>\n",
       "    <tr>\n",
       "      <th>1</th>\n",
       "      <td>Gold</td>\n",
       "      <td>Male</td>\n",
       "      <td>2622884.0</td>\n",
       "      <td>Gold Male</td>\n",
       "    </tr>\n",
       "    <tr>\n",
       "      <th>2</th>\n",
       "      <td>Platinum</td>\n",
       "      <td>Female</td>\n",
       "      <td>2369500.0</td>\n",
       "      <td>Platinum Female</td>\n",
       "    </tr>\n",
       "    <tr>\n",
       "      <th>3</th>\n",
       "      <td>Platinum</td>\n",
       "      <td>Male</td>\n",
       "      <td>2095811.5</td>\n",
       "      <td>Platinum Male</td>\n",
       "    </tr>\n",
       "    <tr>\n",
       "      <th>4</th>\n",
       "      <td>Silver</td>\n",
       "      <td>Female</td>\n",
       "      <td>1898552.0</td>\n",
       "      <td>Silver Female</td>\n",
       "    </tr>\n",
       "    <tr>\n",
       "      <th>5</th>\n",
       "      <td>Silver</td>\n",
       "      <td>Male</td>\n",
       "      <td>2346658.5</td>\n",
       "      <td>Silver Male</td>\n",
       "    </tr>\n",
       "  </tbody>\n",
       "</table>\n",
       "</div>"
      ],
      "text/plain": [
       "    Segment  gender      Total              Lab\n",
       "0      Gold  Female  2109759.0      Gold Female\n",
       "1      Gold    Male  2622884.0        Gold Male\n",
       "2  Platinum  Female  2369500.0  Platinum Female\n",
       "3  Platinum    Male  2095811.5    Platinum Male\n",
       "4    Silver  Female  1898552.0    Silver Female\n",
       "5    Silver    Male  2346658.5      Silver Male"
      ]
     },
     "execution_count": 58,
     "metadata": {},
     "output_type": "execute_result"
    }
   ],
   "source": [
    "pi"
   ]
  },
  {
   "cell_type": "code",
   "execution_count": 59,
   "id": "4443d8d9-bfec-4a62-801f-b281e707b4d8",
   "metadata": {},
   "outputs": [
    {
     "data": {
      "image/png": "[encoded data removed]",
      "text/plain": [
       "<Figure size 640x480 with 1 Axes>"
      ]
     },
     "metadata": {},
     "output_type": "display_data"
    }
   ],
   "source": [
    "plt.pie(pi['Total'], labels=pi['Lab'], autopct='%1.1f%%')\n",
    "plt.show()"
   ]
  },
  {
   "cell_type": "markdown",
   "id": "2a7a6071-5d0d-4803-8586-ae4f03d74c5c",
   "metadata": {},
   "source": [
    "12. Among males and females, which gender had claimed the most for any \n",
    "type of driver related issues? E.g. This metric can be compared using a \n",
    "bar chart"
   ]
  },
  {
   "cell_type": "code",
   "execution_count": 61,
   "id": "c40a244a-3ad3-4c9a-9095-4612c0b1f03e",
   "metadata": {},
   "outputs": [],
   "source": [
    "fmclaim = final.groupby(by=['gender', 'incident_cause'])['customer_id'].count().reset_index(name='Count')"
   ]
  },
  {
   "cell_type": "code",
   "execution_count": 62,
   "id": "e1297a75-efcf-4aa7-b0d4-540a135c32ba",
   "metadata": {},
   "outputs": [
    {
     "data": {
      "text/html": [
       "<div>\n",
       "<style scoped>\n",
       "    .dataframe tbody tr th:only-of-type {\n",
       "        vertical-align: middle;\n",
       "    }\n",
       "\n",
       "    .dataframe tbody tr th {\n",
       "        vertical-align: top;\n",
       "    }\n",
       "\n",
       "    .dataframe thead th {\n",
       "        text-align: right;\n",
       "    }\n",
       "</style>\n",
       "<table border=\"1\" class=\"dataframe\">\n",
       "  <thead>\n",
       "    <tr style=\"text-align: right;\">\n",
       "      <th></th>\n",
       "      <th>gender</th>\n",
       "      <th>incident_cause</th>\n",
       "      <th>Count</th>\n",
       "    </tr>\n",
       "  </thead>\n",
       "  <tbody>\n",
       "    <tr>\n",
       "      <th>0</th>\n",
       "      <td>Female</td>\n",
       "      <td>Crime</td>\n",
       "      <td>58</td>\n",
       "    </tr>\n",
       "    <tr>\n",
       "      <th>1</th>\n",
       "      <td>Female</td>\n",
       "      <td>Driver error</td>\n",
       "      <td>72</td>\n",
       "    </tr>\n",
       "    <tr>\n",
       "      <th>2</th>\n",
       "      <td>Female</td>\n",
       "      <td>Natural causes</td>\n",
       "      <td>92</td>\n",
       "    </tr>\n",
       "    <tr>\n",
       "      <th>3</th>\n",
       "      <td>Female</td>\n",
       "      <td>Other causes</td>\n",
       "      <td>156</td>\n",
       "    </tr>\n",
       "    <tr>\n",
       "      <th>4</th>\n",
       "      <td>Female</td>\n",
       "      <td>Other driver error</td>\n",
       "      <td>149</td>\n",
       "    </tr>\n",
       "    <tr>\n",
       "      <th>5</th>\n",
       "      <td>Male</td>\n",
       "      <td>Crime</td>\n",
       "      <td>50</td>\n",
       "    </tr>\n",
       "    <tr>\n",
       "      <th>6</th>\n",
       "      <td>Male</td>\n",
       "      <td>Driver error</td>\n",
       "      <td>184</td>\n",
       "    </tr>\n",
       "    <tr>\n",
       "      <th>7</th>\n",
       "      <td>Male</td>\n",
       "      <td>Natural causes</td>\n",
       "      <td>93</td>\n",
       "    </tr>\n",
       "    <tr>\n",
       "      <th>8</th>\n",
       "      <td>Male</td>\n",
       "      <td>Other causes</td>\n",
       "      <td>128</td>\n",
       "    </tr>\n",
       "    <tr>\n",
       "      <th>9</th>\n",
       "      <td>Male</td>\n",
       "      <td>Other driver error</td>\n",
       "      <td>96</td>\n",
       "    </tr>\n",
       "  </tbody>\n",
       "</table>\n",
       "</div>"
      ],
      "text/plain": [
       "   gender      incident_cause  Count\n",
       "0  Female               Crime     58\n",
       "1  Female        Driver error     72\n",
       "2  Female      Natural causes     92\n",
       "3  Female        Other causes    156\n",
       "4  Female  Other driver error    149\n",
       "5    Male               Crime     50\n",
       "6    Male        Driver error    184\n",
       "7    Male      Natural causes     93\n",
       "8    Male        Other causes    128\n",
       "9    Male  Other driver error     96"
      ]
     },
     "execution_count": 62,
     "metadata": {},
     "output_type": "execute_result"
    }
   ],
   "source": [
    "fmclaim"
   ]
  },
  {
   "cell_type": "code",
   "execution_count": 63,
   "id": "2265efc7-098a-4d8d-96cc-3de6fd55b039",
   "metadata": {},
   "outputs": [],
   "source": [
    "gendercount = fmclaim[fmclaim['incident_cause'].isin(['Driver error','Other driver error'])].groupby(\n",
    "    by='gender')['Count'].sum() .sort_values(ascending=False).reset_index()"
   ]
  },
  {
   "cell_type": "code",
   "execution_count": 64,
   "id": "e2fe2254-07fd-4d71-9eb0-e386f3fda8fe",
   "metadata": {},
   "outputs": [
    {
     "data": {
      "image/png": "[encoded data removed]",
      "text/plain": [
       "<Figure size 640x480 with 1 Axes>"
      ]
     },
     "metadata": {},
     "output_type": "display_data"
    }
   ],
   "source": [
    "gendercount.plot(kind='bar')\n",
    "plt.xlabel('gender')\n",
    "plt.ylabel('Count')\n",
    "plt.title(\"Customer Count by Gender\")\n",
    "plt.show()"
   ]
  },
  {
   "cell_type": "code",
   "execution_count": 65,
   "id": "40389557-2c46-44bb-b60b-4960ae56cec6",
   "metadata": {
    "scrolled": true
   },
   "outputs": [
    {
     "name": "stderr",
     "output_type": "stream",
     "text": [
      "C:\\Users\\ANIL KUMAR\\AppData\\Local\\Temp\\ipykernel_24312\\3209215049.py:2: FutureWarning: \n",
      "\n",
      "Passing `palette` without assigning `hue` is deprecated and will be removed in v0.14.0. Assign the `x` variable to `hue` and set `legend=False` for the same effect.\n",
      "\n",
      "  sns.barplot(gendercount, x='gender', y='Count',palette=['pink','blue'])\n"
     ]
    },
    {
     "data": {
      "image/png": "[encoded data removed]",
      "text/plain": [
       "<Figure size 400x300 with 1 Axes>"
      ]
     },
     "metadata": {},
     "output_type": "display_data"
    }
   ],
   "source": [
    "plt.figure(figsize=(4,3))\n",
    "sns.barplot(gendercount, x='gender', y='Count',palette=['pink','blue'])\n",
    "plt.xlabel(\"Gender\")\n",
    "plt.ylabel(\"Number of Customers\")\n",
    "plt.title(\"Customer Count by Gender\")\n",
    "plt.show()"
   ]
  },
  {
   "cell_type": "markdown",
   "id": "34cafa1e-26f7-48dd-b41a-2c596fd6030d",
   "metadata": {},
   "source": [
    "13. Which age group had the maximum fraudulent policy claims? Visualize \n",
    "it on a bar chart."
   ]
  },
  {
   "cell_type": "code",
   "execution_count": 67,
   "id": "9cafd0c5-d758-4d01-9502-ec2b5b210ac5",
   "metadata": {},
   "outputs": [],
   "source": [
    "fraud = final[final['fraudulent'] == 'Yes'].groupby(by='category')['fraudulent'].count()"
   ]
  },
  {
   "cell_type": "code",
   "execution_count": 68,
   "id": "638919e5-01ce-4be7-853d-b1a869fe6391",
   "metadata": {
    "scrolled": true
   },
   "outputs": [
    {
     "data": {
      "image/png": "[encoded data removed]",
      "text/plain": [
       "<Figure size 600x400 with 1 Axes>"
      ]
     },
     "metadata": {},
     "output_type": "display_data"
    }
   ],
   "source": [
    "plt.figure(figsize=(6,4))\n",
    "fraud.plot(kind = 'bar')\n",
    "plt.xlabel(\"category\")\n",
    "plt.ylabel(\"Number of Customers\")\n",
    "plt.title(\"Customer Count by fraudulent\")\n",
    "plt.show()"
   ]
  },
  {
   "cell_type": "markdown",
   "id": "bce32ad2-d354-47c2-8145-b3880a439470",
   "metadata": {},
   "source": [
    " 14. Visualize the monthly trend of the total amount that has been claimed by the customers. Ensure that on the “month” axis, the month is in a \n",
    "chronological order not alphabetical order.  "
   ]
  },
  {
   "cell_type": "code",
   "execution_count": 70,
   "id": "d609c3a2-03ad-4e88-8be8-f8cc8ac07cc9",
   "metadata": {},
   "outputs": [],
   "source": [
    "monthclaim = final.groupby(by=final['claim_date'].dt.month)['claim_amount'].sum()"
   ]
  },
  {
   "cell_type": "code",
   "execution_count": 71,
   "id": "45c15d94-a1bf-478a-ae2f-97f5e8dda4bc",
   "metadata": {},
   "outputs": [
    {
     "data": {
      "image/png": "[encoded data removed]",
      "text/plain": [
       "<Figure size 640x480 with 1 Axes>"
      ]
     },
     "metadata": {},
     "output_type": "display_data"
    }
   ],
   "source": [
    "monthclaim.plot(kind='bar')\n",
    "plt.xlabel('Months')\n",
    "plt.ylabel('Claim Amount')\n",
    "plt.show()"
   ]
  },
  {
   "cell_type": "code",
   "execution_count": 72,
   "id": "a3109a3f-8a89-4628-bdf4-60993b347b47",
   "metadata": {},
   "outputs": [],
   "source": [
    "month_order = ['January', 'February', 'March', 'April', 'May', 'June', \n",
    "               'July', 'August', 'September', 'October', 'November', 'December']"
   ]
  },
  {
   "cell_type": "code",
   "execution_count": 73,
   "id": "996ed807-1040-4468-aed0-20754227ac4c",
   "metadata": {},
   "outputs": [
    {
     "ename": "AttributeError",
     "evalue": "'Series' object has no attribute 'insert'",
     "output_type": "error",
     "traceback": [
      "\u001b[1;31m---------------------------------------------------------------------------\u001b[0m",
      "\u001b[1;31mAttributeError\u001b[0m                            Traceback (most recent call last)",
      "\u001b[1;32m~\\AppData\\Local\\Temp\\ipykernel_24312\\2492304072.py\u001b[0m in \u001b[0;36m?\u001b[1;34m()\u001b[0m\n\u001b[1;32m----> 1\u001b[1;33m \u001b[0mmonthclaim\u001b[0m\u001b[1;33m.\u001b[0m\u001b[0minsert\u001b[0m\u001b[1;33m(\u001b[0m\u001b[1;36m1\u001b[0m\u001b[1;33m,\u001b[0m\u001b[1;34m'month'\u001b[0m\u001b[1;33m,\u001b[0m\u001b[1;34m'month_order'\u001b[0m\u001b[1;33m)\u001b[0m\u001b[1;33m\u001b[0m\u001b[1;33m\u001b[0m\u001b[0m\n\u001b[0m",
      "\u001b[1;32mC:\\ProgramData\\anaconda3\\Lib\\site-packages\\pandas\\core\\generic.py\u001b[0m in \u001b[0;36m?\u001b[1;34m(self, name)\u001b[0m\n\u001b[0;32m   6295\u001b[0m             \u001b[1;32mand\u001b[0m \u001b[0mname\u001b[0m \u001b[1;32mnot\u001b[0m \u001b[1;32min\u001b[0m \u001b[0mself\u001b[0m\u001b[1;33m.\u001b[0m\u001b[0m_accessors\u001b[0m\u001b[1;33m\u001b[0m\u001b[1;33m\u001b[0m\u001b[0m\n\u001b[0;32m   6296\u001b[0m             \u001b[1;32mand\u001b[0m \u001b[0mself\u001b[0m\u001b[1;33m.\u001b[0m\u001b[0m_info_axis\u001b[0m\u001b[1;33m.\u001b[0m\u001b[0m_can_hold_identifiers_and_holds_name\u001b[0m\u001b[1;33m(\u001b[0m\u001b[0mname\u001b[0m\u001b[1;33m)\u001b[0m\u001b[1;33m\u001b[0m\u001b[1;33m\u001b[0m\u001b[0m\n\u001b[0;32m   6297\u001b[0m         \u001b[1;33m)\u001b[0m\u001b[1;33m:\u001b[0m\u001b[1;33m\u001b[0m\u001b[1;33m\u001b[0m\u001b[0m\n\u001b[0;32m   6298\u001b[0m             \u001b[1;32mreturn\u001b[0m \u001b[0mself\u001b[0m\u001b[1;33m[\u001b[0m\u001b[0mname\u001b[0m\u001b[1;33m]\u001b[0m\u001b[1;33m\u001b[0m\u001b[1;33m\u001b[0m\u001b[0m\n\u001b[1;32m-> 6299\u001b[1;33m         \u001b[1;32mreturn\u001b[0m \u001b[0mobject\u001b[0m\u001b[1;33m.\u001b[0m\u001b[0m__getattribute__\u001b[0m\u001b[1;33m(\u001b[0m\u001b[0mself\u001b[0m\u001b[1;33m,\u001b[0m \u001b[0mname\u001b[0m\u001b[1;33m)\u001b[0m\u001b[1;33m\u001b[0m\u001b[1;33m\u001b[0m\u001b[0m\n\u001b[0m",
      "\u001b[1;31mAttributeError\u001b[0m: 'Series' object has no attribute 'insert'"
     ]
    }
   ],
   "source": [
    "monthclaim.insert(1,'month','month_order') "
   ]
  },
  {
   "cell_type": "markdown",
   "id": "8de4f95a-1db6-407f-bcd7-20a8d99902fa",
   "metadata": {},
   "source": [
    "15. What is the average claim amount for gender and age categories and \n",
    "suitably represent the above using a facetted bar chart, one facet that \n",
    "represents fraudulent claims and the other for non-fraudulent claims."
   ]
  },
  {
   "cell_type": "code",
   "execution_count": null,
   "id": "309e045a-5d15-492b-a750-d79083d945c2",
   "metadata": {},
   "outputs": [],
   "source": [
    "final.head(1)"
   ]
  },
  {
   "cell_type": "code",
   "execution_count": null,
   "id": "5b88f589-3866-4cd9-90a1-22ff0bbd360a",
   "metadata": {},
   "outputs": [],
   "source": [
    "avg_claim = final.groupby(by=['gender','category','fraudulent'])['claim_amount'].mean().reset_index()"
   ]
  },
  {
   "cell_type": "code",
   "execution_count": null,
   "id": "4eca2b90-58ba-43be-8432-6e4922ab36b7",
   "metadata": {},
   "outputs": [],
   "source": [
    "g = sns.FacetGrid(avg_claim, col='fraudulent', height=4, aspect=1.5)\n",
    "g.map(sns.barplot, 'category', 'claim_amount', 'gender', palette='Set2', order=['Children', 'Youth', 'Adult'])\n",
    "g.add_legend(title='Gender')\n",
    "g.set_axis_labels('Age Category', 'Average Claim Amount')\n",
    "g.set_titles(col_template='Fraudulent: {col_name}')\n",
    "plt.show()"
   ]
  },
  {
   "cell_type": "code",
   "execution_count": null,
   "id": "2cbf1266-431b-4f17-857c-f500b3fa1986",
   "metadata": {},
   "outputs": [],
   "source": [
    "16. Is there any similarity in the amount claimed by males and females?\n",
    " 19. Is there any difference between age groups and insurance claims?\n",
    " 20. Is there any relationship between total number of policy claims and the \n",
    "claimed amount?"
   ]
  },
  {
   "cell_type": "code",
   "execution_count": null,
   "id": "17362086-607d-4636-b9f4-29f9130b0dfb",
   "metadata": {},
   "outputs": [],
   "source": [
    "final.groupby(by = 'gender')['claim_amount'].sum().reset_index()"
   ]
  },
  {
   "cell_type": "code",
   "execution_count": null,
   "id": "967b4ecc-fa69-494b-84a7-9ae2b8134dab",
   "metadata": {},
   "outputs": [],
   "source": [
    "sns.scatterplot(final, x='category', y='Segment')\n",
    "plt.show()"
   ]
  },
  {
   "cell_type": "markdown",
   "id": "08ec5b83-2cf0-4bb9-8f8e-2ad3125250f7",
   "metadata": {},
   "source": [
    " 17. Is there any relationship between age category and segment?"
   ]
  },
  {
   "cell_type": "code",
   "execution_count": null,
   "id": "c2ec8f6b-fcc7-4249-b1d6-d06a4986271e",
   "metadata": {},
   "outputs": [],
   "source": [
    "contingency_table = pd.crosstab(final['category'], final['Segment'])\n",
    "contingency_table"
   ]
  },
  {
   "cell_type": "code",
   "execution_count": null,
   "id": "6b6bca87-fa48-46f9-a222-fa57897b985f",
   "metadata": {},
   "outputs": [],
   "source": [
    "from scipy.stats import chi2_contingency\n",
    "\n",
    "chi2, p, dof, expected = chi2_contingency(contingency_table)\n",
    "print(\"Chi-square statistic:\", chi2)\n",
    "print(\"p-value:\", p)\n",
    "\n",
    "if p < 0.05:\n",
    "    print(\"There is a significant relationship between age category and segment.\")\n",
    "else:\n",
    "    print(\"There is no significant relationship between age category and segment.\")"
   ]
  },
  {
   "cell_type": "code",
   "execution_count": null,
   "id": "2a200b25-9259-4f75-b57e-d1e1d3232ade",
   "metadata": {},
   "outputs": [],
   "source": [
    "import seaborn as sns\n",
    "import matplotlib.pyplot as plt\n",
    "\n",
    "# Countplot to see the distribution of segments within each age category\n",
    "sns.countplot(x='category', hue='Segment', data=final, palette='Set2')\n",
    "plt.xlabel('Age Category')\n",
    "plt.ylabel('Count')\n",
    "plt.title('Distribution of Age Category by Segment')\n",
    "plt.show()"
   ]
  },
  {
   "cell_type": "markdown",
   "id": "105de1b1-7c78-446a-a49e-a1c8ca920623",
   "metadata": {},
   "source": [
    " 18. The current year has shown a significant rise in claim amounts as compared to 2016-17 fiscal average which was $10,000."
   ]
  },
  {
   "cell_type": "code",
   "execution_count": null,
   "id": "e993f5ef-46d5-4ebd-b175-df1d7786dc47",
   "metadata": {},
   "outputs": [],
   "source": [
    "# Here we will check the pearson coeffecient.\n",
    "\n",
    "import scipy.stats as stats\n",
    "\n",
    "# The H0=  No relationship between the 2016-17 claim amounts and current claim amounts,\n",
    "# Ha= Retionship exists;\n",
    "# the CI= 95%, p=0.05\n",
    "\n",
    "# In[485]:\n",
    "\n",
    "\n",
    "final[\"Year\"]= final['claim_date'].dt.year\n",
    "    \n",
    "\n",
    "# In[481]:\n",
    "\n",
    "\n",
    "#current year as per the data given in 2018\n",
    "\n",
    "\n",
    "# In[522]:\n",
    "\n",
    "\n",
    "Current_year= final.loc[final.Year == 2018][\"claim_amount\"]\n",
    "amt_2016_17= final.loc[final.Year == 2017][\"claim_amount\"]\n",
    "\n",
    "\n",
    "# In[527]:\n",
    "\n",
    "\n",
    "#performing pearson coeffecient\n",
    "\n",
    "stats.pearsonr(Current_year,amt_2016_17)\n",
    "\n",
    "\n",
    "# In[528]:\n",
    "\n",
    "\n",
    "#not able to perform it"
   ]
  },
  {
   "cell_type": "code",
   "execution_count": null,
   "id": "c891fcbb-07e9-4cae-b1ae-cecfa0d6cdb4",
   "metadata": {},
   "outputs": [],
   "source": [
    "final.head(1)"
   ]
  },
  {
   "cell_type": "code",
   "execution_count": 76,
   "id": "4f6581cf-0d55-4c5d-9bf8-054dded973e3",
   "metadata": {},
   "outputs": [],
   "source": [
    "female_claims = final.loc[(final['gender'] == 'Female'), ['claim_amount']]\n",
    "male_claims = final.loc[(final['gender'] == 'Male'), ['claim_amount']]"
   ]
  },
  {
   "cell_type": "code",
   "execution_count": 78,
   "id": "d9a18ce1-2687-4e9f-b73a-bef66f692add",
   "metadata": {},
   "outputs": [
    {
     "name": "stdout",
     "output_type": "stream",
     "text": [
      "6377811.0\n",
      "12102.10815939279\n"
     ]
    }
   ],
   "source": [
    "female_claims.claim_amount\n",
    "print(female_claims.claim_amount.sum())\n",
    "print(female_claims.claim_amount.mean())"
   ]
  },
  {
   "cell_type": "code",
   "execution_count": null,
   "id": "45d7233b-6f94-4683-b3df-e7e0975ef052",
   "metadata": {},
   "outputs": [],
   "source": [
    "male_claims.claim_amount\n",
    "print(male_claims.claim_amount.sum())\n",
    "print(male_claims.claim_amount.mean())"
   ]
  },
  {
   "cell_type": "code",
   "execution_count": 84,
   "id": "0f5f597d-a4a5-4395-bf26-a964f3e457cb",
   "metadata": {},
   "outputs": [
    {
     "name": "stdout",
     "output_type": "stream",
     "text": [
      "0        2980.0\n",
      "1        2980.0\n",
      "2        3369.5\n",
      "3        1680.0\n",
      "9        2748.5\n",
      "         ...   \n",
      "1072    38950.0\n",
      "1076     1380.0\n",
      "1080     1770.0\n",
      "1081     2800.0\n",
      "1083     2840.0\n",
      "Name: claim_amount, Length: 527, dtype: float64 \n",
      "\n",
      "4        2680.0\n",
      "5       38306.5\n",
      "6        1730.0\n",
      "7        1160.0\n",
      "8        2620.0\n",
      "         ...   \n",
      "1077     2290.0\n",
      "1078     2320.0\n",
      "1079     2173.5\n",
      "1082    33080.0\n",
      "1084     1490.0\n",
      "Name: claim_amount, Length: 551, dtype: float64\n"
     ]
    }
   ],
   "source": [
    "print(female_claims.claim_amount,'\\n')\n",
    "print(male_claims.claim_amount)"
   ]
  },
  {
   "cell_type": "raw",
   "id": "659580d6-51f2-4fd2-8990-ef9b59460ca7",
   "metadata": {},
   "source": [
    "Step 1: Ho --> Female and Male clams are equal \n",
    "        H1 --> Female and Male clams are are different \n",
    "Step 2: Choise CI = 0.98 and alpha = 0.02\n",
    "Step 3: Chosise relative test and sample \n",
    "Step 4: Test the p-Value with alpha Value "
   ]
  },
  {
   "cell_type": "code",
   "execution_count": null,
   "id": "167c82bc-72e3-4513-b567-5862f5e09f5d",
   "metadata": {},
   "outputs": [],
   "source": [
    "from scipy import stats\n",
    "t_stat, p_value = stats.ttest_ind(male_claims, female_claims, equal_var=False)"
   ]
  },
  {
   "cell_type": "code",
   "execution_count": null,
   "id": "1b8ac497-ae01-4e41-b639-b4436bd82a7c",
   "metadata": {},
   "outputs": [],
   "source": [
    "print(f\"T-Statistic: {t_stat} \\n P-Value: {p_value}\")"
   ]
  },
  {
   "cell_type": "markdown",
   "id": "bfdc2a2b-45d7-45a1-bb8a-5936cdde567a",
   "metadata": {},
   "source": [
    " 17. Is there any relationship between age category and segment?"
   ]
  },
  {
   "cell_type": "code",
   "execution_count": null,
   "id": "cd0db9ef-5194-4b55-913f-00768264c6af",
   "metadata": {},
   "outputs": [],
   "source": [
    "final['Segment']"
   ]
  },
  {
   "cell_type": "code",
   "execution_count": null,
   "id": "355d1e3c-571d-40f6-b6a4-4675a0f726ad",
   "metadata": {},
   "outputs": [],
   "source": [
    "final['category']"
   ]
  },
  {
   "cell_type": "code",
   "execution_count": null,
   "id": "3accc481-1058-4ab5-9d3e-57ae2da598e1",
   "metadata": {},
   "outputs": [],
   "source": [
    "# Ho There is no relationship between age category and segment\n",
    "# H1 There is  relationship between age category and segment\n",
    "# Ci - 0.98 and alpha - 0.02"
   ]
  },
  {
   "cell_type": "code",
   "execution_count": 86,
   "id": "d4a83e3e-fe71-421a-8711-d07f164e0630",
   "metadata": {},
   "outputs": [],
   "source": [
    "from scipy.stats import chi2_contingency"
   ]
  },
  {
   "cell_type": "code",
   "execution_count": 92,
   "id": "b9de1c05-190a-4b22-9c31-07efa5e5a040",
   "metadata": {},
   "outputs": [
    {
     "data": {
      "text/html": [
       "<div>\n",
       "<style scoped>\n",
       "    .dataframe tbody tr th:only-of-type {\n",
       "        vertical-align: middle;\n",
       "    }\n",
       "\n",
       "    .dataframe tbody tr th {\n",
       "        vertical-align: top;\n",
       "    }\n",
       "\n",
       "    .dataframe thead th {\n",
       "        text-align: right;\n",
       "    }\n",
       "</style>\n",
       "<table border=\"1\" class=\"dataframe\">\n",
       "  <thead>\n",
       "    <tr style=\"text-align: right;\">\n",
       "      <th>Segment</th>\n",
       "      <th>Gold</th>\n",
       "      <th>Platinum</th>\n",
       "      <th>Silver</th>\n",
       "    </tr>\n",
       "    <tr>\n",
       "      <th>category</th>\n",
       "      <th></th>\n",
       "      <th></th>\n",
       "      <th></th>\n",
       "    </tr>\n",
       "  </thead>\n",
       "  <tbody>\n",
       "    <tr>\n",
       "      <th>Adult</th>\n",
       "      <td>173</td>\n",
       "      <td>155</td>\n",
       "      <td>156</td>\n",
       "    </tr>\n",
       "    <tr>\n",
       "      <th>Children</th>\n",
       "      <td>81</td>\n",
       "      <td>83</td>\n",
       "      <td>81</td>\n",
       "    </tr>\n",
       "    <tr>\n",
       "      <th>Youth</th>\n",
       "      <td>117</td>\n",
       "      <td>123</td>\n",
       "      <td>109</td>\n",
       "    </tr>\n",
       "  </tbody>\n",
       "</table>\n",
       "</div>"
      ],
      "text/plain": [
       "Segment   Gold  Platinum  Silver\n",
       "category                        \n",
       "Adult      173       155     156\n",
       "Children    81        83      81\n",
       "Youth      117       123     109"
      ]
     },
     "execution_count": 92,
     "metadata": {},
     "output_type": "execute_result"
    }
   ],
   "source": [
    "contingency_table = pd.crosstab(final['category'], final['Segment'])\n",
    "contingency_table"
   ]
  },
  {
   "cell_type": "code",
   "execution_count": 94,
   "id": "74a3c547-f4c1-4026-84b6-3b1a8424b1e6",
   "metadata": {},
   "outputs": [
    {
     "name": "stdout",
     "output_type": "stream",
     "text": [
      "Chi-square statistic: 1.2559901670730507\n",
      "p-value: 0.8687969539065461\n"
     ]
    }
   ],
   "source": [
    "chi2, p, dof, expected = chi2_contingency(contingency_table)\n",
    "\n",
    "print(\"Chi-square statistic:\", chi2)\n",
    "print(\"p-value:\", p)\n"
   ]
  },
  {
   "cell_type": "code",
   "execution_count": 96,
   "id": "56824fb5-c1d8-4b77-a211-1df4531b59e0",
   "metadata": {},
   "outputs": [
    {
     "name": "stdout",
     "output_type": "stream",
     "text": [
      "No significant relationship found.\n"
     ]
    }
   ],
   "source": [
    "if p < 0.05:\n",
    "    print(\"There is a significant relationship between age category and segment.\")\n",
    "else:\n",
    " print(\"No significant relationship found.\")"
   ]
  },
  {
   "cell_type": "code",
   "execution_count": 90,
   "id": "17ae8aee-415f-4443-9e30-17965b3da622",
   "metadata": {
    "scrolled": true
   },
   "outputs": [
    {
     "ename": "ValueError",
     "evalue": "setting an array element with a sequence. The requested array has an inhomogeneous shape after 1 dimensions. The detected shape was (2,) + inhomogeneous part.",
     "output_type": "error",
     "traceback": [
      "\u001b[1;31m---------------------------------------------------------------------------\u001b[0m",
      "\u001b[1;31mValueError\u001b[0m                                Traceback (most recent call last)",
      "Cell \u001b[1;32mIn[90], line 1\u001b[0m\n\u001b[1;32m----> 1\u001b[0m chi2, p, dof, expected \u001b[38;5;241m=\u001b[39m chi2_contingency([female_claims\u001b[38;5;241m.\u001b[39mclaim_amount,male_claims\u001b[38;5;241m.\u001b[39mclaim_amount])\n",
      "File \u001b[1;32mC:\\ProgramData\\anaconda3\\Lib\\site-packages\\scipy\\stats\\contingency.py:329\u001b[0m, in \u001b[0;36mchi2_contingency\u001b[1;34m(observed, correction, lambda_)\u001b[0m\n\u001b[0;32m    144\u001b[0m \u001b[38;5;28;01mdef\u001b[39;00m \u001b[38;5;21mchi2_contingency\u001b[39m(observed, correction\u001b[38;5;241m=\u001b[39m\u001b[38;5;28;01mTrue\u001b[39;00m, lambda_\u001b[38;5;241m=\u001b[39m\u001b[38;5;28;01mNone\u001b[39;00m):\n\u001b[0;32m    145\u001b[0m \u001b[38;5;250m    \u001b[39m\u001b[38;5;124;03m\"\"\"Chi-square test of independence of variables in a contingency table.\u001b[39;00m\n\u001b[0;32m    146\u001b[0m \n\u001b[0;32m    147\u001b[0m \u001b[38;5;124;03m    This function computes the chi-square statistic and p-value for the\u001b[39;00m\n\u001b[1;32m   (...)\u001b[0m\n\u001b[0;32m    327\u001b[0m \u001b[38;5;124;03m    0.64417725029295503\u001b[39;00m\n\u001b[0;32m    328\u001b[0m \u001b[38;5;124;03m    \"\"\"\u001b[39;00m\n\u001b[1;32m--> 329\u001b[0m     observed \u001b[38;5;241m=\u001b[39m np\u001b[38;5;241m.\u001b[39masarray(observed)\n\u001b[0;32m    330\u001b[0m     \u001b[38;5;28;01mif\u001b[39;00m np\u001b[38;5;241m.\u001b[39many(observed \u001b[38;5;241m<\u001b[39m \u001b[38;5;241m0\u001b[39m):\n\u001b[0;32m    331\u001b[0m         \u001b[38;5;28;01mraise\u001b[39;00m \u001b[38;5;167;01mValueError\u001b[39;00m(\u001b[38;5;124m\"\u001b[39m\u001b[38;5;124mAll values in `observed` must be nonnegative.\u001b[39m\u001b[38;5;124m\"\u001b[39m)\n",
      "\u001b[1;31mValueError\u001b[0m: setting an array element with a sequence. The requested array has an inhomogeneous shape after 1 dimensions. The detected shape was (2,) + inhomogeneous part."
     ]
    }
   ],
   "source": [
    "chi2, p, dof, expected = chi2_contingency([female_claims.claim_amount,male_claims.claim_amount])"
   ]
  },
  {
   "cell_type": "markdown",
   "id": "113db29e-0ddc-4224-92bd-7e355da1393f",
   "metadata": {},
   "source": [
    " 19. Is there any difference between age groups and insurance claims"
   ]
  },
  {
   "cell_type": "code",
   "execution_count": 98,
   "id": "3a33af33-f5b7-448c-8bd1-483853ea8c42",
   "metadata": {
    "scrolled": true
   },
   "outputs": [
    {
     "name": "stdout",
     "output_type": "stream",
     "text": [
      "<class 'pandas.core.frame.DataFrame'>\n",
      "Index: 1078 entries, 0 to 1084\n",
      "Data columns (total 19 columns):\n",
      " #   Column               Non-Null Count  Dtype         \n",
      "---  ------               --------------  -----         \n",
      " 0   claim_id             1078 non-null   int64         \n",
      " 1   customer_id          1078 non-null   int64         \n",
      " 2   incident_cause       1078 non-null   object        \n",
      " 3   claim_date           1078 non-null   datetime64[ns]\n",
      " 4   claim_area           1078 non-null   object        \n",
      " 5   police_report        1078 non-null   object        \n",
      " 6   claim_type           1078 non-null   object        \n",
      " 7   claim_amount         1078 non-null   float64       \n",
      " 8   total_policy_claims  1068 non-null   float64       \n",
      " 9   fraudulent           1078 non-null   object        \n",
      " 10  CUST_ID              1078 non-null   int64         \n",
      " 11  gender               1078 non-null   object        \n",
      " 12  DateOfBirth          1078 non-null   datetime64[ns]\n",
      " 13  State                1078 non-null   object        \n",
      " 14  Contact              1078 non-null   object        \n",
      " 15  Segment              1078 non-null   object        \n",
      " 16  alert_flag           1078 non-null   int64         \n",
      " 17  age                  1078 non-null   int32         \n",
      " 18  category             1078 non-null   object        \n",
      "dtypes: datetime64[ns](2), float64(2), int32(1), int64(4), object(10)\n",
      "memory usage: 164.2+ KB\n"
     ]
    }
   ],
   "source": [
    "final.info()"
   ]
  },
  {
   "cell_type": "code",
   "execution_count": 112,
   "id": "98a2b93e-f06d-43d6-be24-5beabd1724c5",
   "metadata": {
    "scrolled": true
   },
   "outputs": [
    {
     "data": {
      "text/html": [
       "<div>\n",
       "<style scoped>\n",
       "    .dataframe tbody tr th:only-of-type {\n",
       "        vertical-align: middle;\n",
       "    }\n",
       "\n",
       "    .dataframe tbody tr th {\n",
       "        vertical-align: top;\n",
       "    }\n",
       "\n",
       "    .dataframe thead th {\n",
       "        text-align: right;\n",
       "    }\n",
       "</style>\n",
       "<table border=\"1\" class=\"dataframe\">\n",
       "  <thead>\n",
       "    <tr style=\"text-align: right;\">\n",
       "      <th></th>\n",
       "      <th>category</th>\n",
       "      <th>claim_amount</th>\n",
       "    </tr>\n",
       "  </thead>\n",
       "  <tbody>\n",
       "    <tr>\n",
       "      <th>0</th>\n",
       "      <td>Adult</td>\n",
       "      <td>2980.0</td>\n",
       "    </tr>\n",
       "    <tr>\n",
       "      <th>1</th>\n",
       "      <td>Adult</td>\n",
       "      <td>2980.0</td>\n",
       "    </tr>\n",
       "    <tr>\n",
       "      <th>2</th>\n",
       "      <td>Adult</td>\n",
       "      <td>3369.5</td>\n",
       "    </tr>\n",
       "    <tr>\n",
       "      <th>3</th>\n",
       "      <td>Adult</td>\n",
       "      <td>1680.0</td>\n",
       "    </tr>\n",
       "    <tr>\n",
       "      <th>4</th>\n",
       "      <td>Adult</td>\n",
       "      <td>2680.0</td>\n",
       "    </tr>\n",
       "    <tr>\n",
       "      <th>...</th>\n",
       "      <td>...</td>\n",
       "      <td>...</td>\n",
       "    </tr>\n",
       "    <tr>\n",
       "      <th>1080</th>\n",
       "      <td>Adult</td>\n",
       "      <td>1770.0</td>\n",
       "    </tr>\n",
       "    <tr>\n",
       "      <th>1081</th>\n",
       "      <td>Youth</td>\n",
       "      <td>2800.0</td>\n",
       "    </tr>\n",
       "    <tr>\n",
       "      <th>1082</th>\n",
       "      <td>Youth</td>\n",
       "      <td>33080.0</td>\n",
       "    </tr>\n",
       "    <tr>\n",
       "      <th>1083</th>\n",
       "      <td>Children</td>\n",
       "      <td>2840.0</td>\n",
       "    </tr>\n",
       "    <tr>\n",
       "      <th>1084</th>\n",
       "      <td>Youth</td>\n",
       "      <td>1490.0</td>\n",
       "    </tr>\n",
       "  </tbody>\n",
       "</table>\n",
       "<p>1078 rows × 2 columns</p>\n",
       "</div>"
      ],
      "text/plain": [
       "      category  claim_amount\n",
       "0        Adult        2980.0\n",
       "1        Adult        2980.0\n",
       "2        Adult        3369.5\n",
       "3        Adult        1680.0\n",
       "4        Adult        2680.0\n",
       "...        ...           ...\n",
       "1080     Adult        1770.0\n",
       "1081     Youth        2800.0\n",
       "1082     Youth       33080.0\n",
       "1083  Children        2840.0\n",
       "1084     Youth        1490.0\n",
       "\n",
       "[1078 rows x 2 columns]"
      ]
     },
     "execution_count": 112,
     "metadata": {},
     "output_type": "execute_result"
    }
   ],
   "source": [
    "final[['category','claim_amount']]"
   ]
  },
  {
   "cell_type": "code",
   "execution_count": 114,
   "id": "1642bc29-b3bb-451d-b72d-94da646cce9d",
   "metadata": {},
   "outputs": [
    {
     "data": {
      "text/html": [
       "<div>\n",
       "<style scoped>\n",
       "    .dataframe tbody tr th:only-of-type {\n",
       "        vertical-align: middle;\n",
       "    }\n",
       "\n",
       "    .dataframe tbody tr th {\n",
       "        vertical-align: top;\n",
       "    }\n",
       "\n",
       "    .dataframe thead th {\n",
       "        text-align: right;\n",
       "    }\n",
       "</style>\n",
       "<table border=\"1\" class=\"dataframe\">\n",
       "  <thead>\n",
       "    <tr style=\"text-align: right;\">\n",
       "      <th>category</th>\n",
       "      <th>Adult</th>\n",
       "      <th>Children</th>\n",
       "      <th>Youth</th>\n",
       "    </tr>\n",
       "  </thead>\n",
       "  <tbody>\n",
       "    <tr>\n",
       "      <th>claim_amount</th>\n",
       "      <td>6528027.0</td>\n",
       "      <td>2856548.0</td>\n",
       "      <td>4058590.0</td>\n",
       "    </tr>\n",
       "  </tbody>\n",
       "</table>\n",
       "</div>"
      ],
      "text/plain": [
       "category          Adult   Children      Youth\n",
       "claim_amount  6528027.0  2856548.0  4058590.0"
      ]
     },
     "execution_count": 114,
     "metadata": {},
     "output_type": "execute_result"
    }
   ],
   "source": [
    "final.pivot_table(columns='category', values='claim_amount', aggfunc='sum')"
   ]
  },
  {
   "cell_type": "code",
   "execution_count": null,
   "id": "edfbad84-2b0e-4f92-b757-cb037a8442e1",
   "metadata": {},
   "outputs": [],
   "source": []
  }
 ],
 "metadata": {
  "kernelspec": {
   "display_name": "Python [conda env:base] *",
   "language": "python",
   "name": "conda-base-py"
  },
  "language_info": {
   "codemirror_mode": {
    "name": "ipython",
    "version": 3
   },
   "file_extension": ".py",
   "mimetype": "text/x-python",
   "name": "python",
   "nbconvert_exporter": "python",
   "pygments_lexer": "ipython3",
   "version": "3.12.7"
  }
 },
 "nbformat": 4,
 "nbformat_minor": 5
}
